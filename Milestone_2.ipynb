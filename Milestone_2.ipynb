{
 "cells": [
  {
   "cell_type": "code",
   "execution_count": 1,
   "metadata": {},
   "outputs": [],
   "source": [
    "%load_ext autoreload\n",
    "%autoreload 2\n",
    "\n",
    "import pandas as pd\n",
    "import numpy as np\n",
    "from data import CleanedData\n",
    "from models import nn\n",
    "import sklearn.metrics\n",
    "import torch\n",
    "import sklearn.metrics\n",
    "import matplotlib.pyplot as plt\n",
    "\n",
    "# For Adaboost\n",
    "from sklearn.metrics import confusion_matrix, ConfusionMatrixDisplay\n",
    "from sklearn.model_selection import train_test_split\n",
    "from sklearn.tree import DecisionTreeClassifier\n",
    "from sklearn.ensemble import AdaBoostClassifier\n",
    "import pickle\n",
    "\n",
    "# For KNN\n",
    "from sklearn.neighbors import KNeighborsClassifier"
   ]
  },
  {
   "cell_type": "markdown",
   "metadata": {},
   "source": [
    "## Data imputing, cleaning and feature extraction"
   ]
  },
  {
   "cell_type": "code",
   "execution_count": 2,
   "metadata": {},
   "outputs": [
    {
     "name": "stderr",
     "output_type": "stream",
     "text": [
      "D:\\Users\\gerla\\anaconda3\\lib\\site-packages\\sklearn\\utils\\validation.py:72: DataConversionWarning: A column-vector y was passed when a 1d array was expected. Please change the shape of y to (n_samples, ), for example using ravel().\n",
      "  return f(**kwargs)\n"
     ]
    }
   ],
   "source": [
    "data = CleanedData(loc='./data/joined.csv.gz', test_ratio=0.2, impute_data=True, convert_non_numerical=True, normalize_data=True, drop_columns=['source', 'Last_Update','province','country','latitude', 'longitude'])"
   ]
  },
  {
   "cell_type": "markdown",
   "metadata": {},
   "source": [
    "## Splitting data to test and training data"
   ]
  },
  {
   "cell_type": "code",
   "execution_count": 3,
   "metadata": {},
   "outputs": [],
   "source": [
    "X_train, y_train = data.training_data\n",
    "X_test, y_test = data.test_data"
   ]
  },
  {
   "cell_type": "code",
   "execution_count": 4,
   "metadata": {},
   "outputs": [
    {
     "data": {
      "text/html": [
       "<div>\n",
       "<style scoped>\n",
       "    .dataframe tbody tr th:only-of-type {\n",
       "        vertical-align: middle;\n",
       "    }\n",
       "\n",
       "    .dataframe tbody tr th {\n",
       "        vertical-align: top;\n",
       "    }\n",
       "\n",
       "    .dataframe thead th {\n",
       "        text-align: right;\n",
       "    }\n",
       "</style>\n",
       "<table border=\"1\" class=\"dataframe\">\n",
       "  <thead>\n",
       "    <tr style=\"text-align: right;\">\n",
       "      <th></th>\n",
       "      <th>age</th>\n",
       "      <th>Lat</th>\n",
       "      <th>Long_</th>\n",
       "      <th>Confirmed</th>\n",
       "      <th>Deaths</th>\n",
       "      <th>Recovered</th>\n",
       "      <th>Active</th>\n",
       "      <th>Incidence_Rate</th>\n",
       "      <th>Case-Fatality_Ratio</th>\n",
       "      <th>confirmed_day</th>\n",
       "      <th>in_contact</th>\n",
       "      <th>transformed_Combined_Key</th>\n",
       "      <th>transformed_sex</th>\n",
       "    </tr>\n",
       "  </thead>\n",
       "  <tbody>\n",
       "    <tr>\n",
       "      <th>279415</th>\n",
       "      <td>39.072853</td>\n",
       "      <td>19.449759</td>\n",
       "      <td>76.108221</td>\n",
       "      <td>13.970372</td>\n",
       "      <td>10.366939</td>\n",
       "      <td>13.634507</td>\n",
       "      <td>12.615772</td>\n",
       "      <td>6.854431</td>\n",
       "      <td>2.723007</td>\n",
       "      <td>149.0</td>\n",
       "      <td>0.0</td>\n",
       "      <td>252.0</td>\n",
       "      <td>2.0</td>\n",
       "    </tr>\n",
       "    <tr>\n",
       "      <th>311139</th>\n",
       "      <td>69.500000</td>\n",
       "      <td>48.661600</td>\n",
       "      <td>9.350100</td>\n",
       "      <td>10.753190</td>\n",
       "      <td>7.534228</td>\n",
       "      <td>10.626873</td>\n",
       "      <td>8.210668</td>\n",
       "      <td>6.046408</td>\n",
       "      <td>3.999658</td>\n",
       "      <td>127.0</td>\n",
       "      <td>0.0</td>\n",
       "      <td>40.0</td>\n",
       "      <td>1.0</td>\n",
       "    </tr>\n",
       "    <tr>\n",
       "      <th>226241</th>\n",
       "      <td>39.600731</td>\n",
       "      <td>26.925425</td>\n",
       "      <td>80.560982</td>\n",
       "      <td>12.744867</td>\n",
       "      <td>8.490644</td>\n",
       "      <td>12.506525</td>\n",
       "      <td>11.124686</td>\n",
       "      <td>4.970505</td>\n",
       "      <td>1.420411</td>\n",
       "      <td>133.0</td>\n",
       "      <td>0.0</td>\n",
       "      <td>468.0</td>\n",
       "      <td>2.0</td>\n",
       "    </tr>\n",
       "    <tr>\n",
       "      <th>160498</th>\n",
       "      <td>37.731900</td>\n",
       "      <td>11.006091</td>\n",
       "      <td>78.400624</td>\n",
       "      <td>13.182344</td>\n",
       "      <td>9.069353</td>\n",
       "      <td>13.072578</td>\n",
       "      <td>10.747337</td>\n",
       "      <td>6.525087</td>\n",
       "      <td>1.635877</td>\n",
       "      <td>143.0</td>\n",
       "      <td>0.0</td>\n",
       "      <td>439.0</td>\n",
       "      <td>2.0</td>\n",
       "    </tr>\n",
       "    <tr>\n",
       "      <th>170162</th>\n",
       "      <td>48.000000</td>\n",
       "      <td>-6.353049</td>\n",
       "      <td>-79.824113</td>\n",
       "      <td>10.115004</td>\n",
       "      <td>7.408531</td>\n",
       "      <td>0.000000</td>\n",
       "      <td>10.045898</td>\n",
       "      <td>7.541781</td>\n",
       "      <td>6.677188</td>\n",
       "      <td>140.0</td>\n",
       "      <td>0.0</td>\n",
       "      <td>231.0</td>\n",
       "      <td>0.0</td>\n",
       "    </tr>\n",
       "  </tbody>\n",
       "</table>\n",
       "</div>"
      ],
      "text/plain": [
       "              age        Lat      Long_  Confirmed     Deaths  Recovered  \\\n",
       "279415  39.072853  19.449759  76.108221  13.970372  10.366939  13.634507   \n",
       "311139  69.500000  48.661600   9.350100  10.753190   7.534228  10.626873   \n",
       "226241  39.600731  26.925425  80.560982  12.744867   8.490644  12.506525   \n",
       "160498  37.731900  11.006091  78.400624  13.182344   9.069353  13.072578   \n",
       "170162  48.000000  -6.353049 -79.824113  10.115004   7.408531   0.000000   \n",
       "\n",
       "           Active  Incidence_Rate  Case-Fatality_Ratio  confirmed_day  \\\n",
       "279415  12.615772        6.854431             2.723007          149.0   \n",
       "311139   8.210668        6.046408             3.999658          127.0   \n",
       "226241  11.124686        4.970505             1.420411          133.0   \n",
       "160498  10.747337        6.525087             1.635877          143.0   \n",
       "170162  10.045898        7.541781             6.677188          140.0   \n",
       "\n",
       "        in_contact  transformed_Combined_Key  transformed_sex  \n",
       "279415         0.0                     252.0              2.0  \n",
       "311139         0.0                      40.0              1.0  \n",
       "226241         0.0                     468.0              2.0  \n",
       "160498         0.0                     439.0              2.0  \n",
       "170162         0.0                     231.0              0.0  "
      ]
     },
     "execution_count": 4,
     "metadata": {},
     "output_type": "execute_result"
    }
   ],
   "source": [
    "X_train.head(5)"
   ]
  },
  {
   "cell_type": "markdown",
   "metadata": {},
   "source": [
    "## Model 1 variations, neural network with different hyperparameters and architectures"
   ]
  },
  {
   "cell_type": "code",
   "execution_count": 5,
   "metadata": {},
   "outputs": [],
   "source": [
    "models = []\n",
    "trained_models = 13\n",
    "for i in range(trained_models):\n",
    "    models.append(nn.network_1())\n",
    "    nn.load_model(models[i], f'./models/weights/model_{i}.pth')"
   ]
  },
  {
   "cell_type": "markdown",
   "metadata": {},
   "source": [
    "## Accuracy of each model on training and validation data"
   ]
  },
  {
   "cell_type": "code",
   "execution_count": 6,
   "metadata": {},
   "outputs": [
    {
     "name": "stdout",
     "output_type": "stream",
     "text": [
      "training accuracy of model_1: 81.01%\n",
      "validation accuracy of model_1: 81.10%\n",
      "training accuracy of model_2: 84.37%\n",
      "validation accuracy of model_2: 84.49%\n",
      "training accuracy of model_3: 82.90%\n",
      "validation accuracy of model_3: 82.99%\n",
      "training accuracy of model_4: 82.89%\n",
      "validation accuracy of model_4: 82.96%\n",
      "training accuracy of model_5: 83.02%\n",
      "validation accuracy of model_5: 83.16%\n",
      "training accuracy of model_6: 83.11%\n",
      "validation accuracy of model_6: 83.22%\n",
      "training accuracy of model_7: 82.17%\n",
      "validation accuracy of model_7: 82.27%\n",
      "training accuracy of model_8: 84.35%\n",
      "validation accuracy of model_8: 84.52%\n",
      "training accuracy of model_9: 84.46%\n",
      "validation accuracy of model_9: 84.62%\n",
      "training accuracy of model_10: 84.79%\n",
      "validation accuracy of model_10: 84.91%\n",
      "training accuracy of model_11: 84.91%\n",
      "validation accuracy of model_11: 85.09%\n",
      "training accuracy of model_12: 84.75%\n",
      "validation accuracy of model_12: 84.86%\n",
      "training accuracy of model_13: 84.83%\n",
      "validation accuracy of model_13: 84.92%\n"
     ]
    }
   ],
   "source": [
    "for i in range(trained_models):\n",
    "    print(f'training accuracy of model_{i+1}: {nn.eval(models[i], X_train, y_train):.2f}%')\n",
    "    print(f'validation accuracy of model_{i+1}: {nn.eval(models[i], X_test, y_test):.2f}%')"
   ]
  },
  {
   "cell_type": "markdown",
   "metadata": {},
   "source": [
    "## Making predictions"
   ]
  },
  {
   "cell_type": "code",
   "execution_count": 7,
   "metadata": {},
   "outputs": [],
   "source": [
    "models_training_preds = []\n",
    "models_validation_preds = []\n",
    "for i in range(trained_models):\n",
    "    models_training_preds.append(torch.argmax(torch.softmax(models[i](torch.tensor(X_train.values).float()), dim=1), dim=1))\n",
    "    models_validation_preds.append(torch.argmax(torch.softmax(models[i](torch.tensor(X_test.values).float()), dim=1), dim=1))"
   ]
  },
  {
   "cell_type": "markdown",
   "metadata": {},
   "source": [
    "## F-2 scores of different models "
   ]
  },
  {
   "cell_type": "code",
   "execution_count": 8,
   "metadata": {},
   "outputs": [
    {
     "data": {
      "text/plain": [
       "<matplotlib.legend.Legend at 0x2661f9c8c08>"
      ]
     },
     "execution_count": 8,
     "metadata": {},
     "output_type": "execute_result"
    },
    {
     "data": {
      "image/png": "[encoded data removed]",
      "text/plain": [
       "<Figure size 432x288 with 1 Axes>"
      ]
     },
     "metadata": {
      "needs_background": "light"
     },
     "output_type": "display_data"
    }
   ],
   "source": [
    "fscore_training = []\n",
    "fscore_validation = []\n",
    "for i in range(trained_models):\n",
    "    fscore_training.append(sklearn.metrics.fbeta_score(y_train, models_training_preds[i], beta=2, average=\"macro\"))\n",
    "    fscore_validation.append(sklearn.metrics.fbeta_score(y_test, models_validation_preds[i], beta=2, average=\"macro\"))\n",
    "\n",
    "plt.plot(fscore_training,)\n",
    "plt.plot(fscore_validation,linestyle='dashed')\n",
    "plt.legend(['training', 'validation'])"
   ]
  },
  {
   "cell_type": "code",
   "execution_count": 9,
   "metadata": {},
   "outputs": [
    {
     "data": {
      "text/plain": [
       "array([0.08257638, 0.92146659, 0.99480924, 0.26950872])"
      ]
     },
     "execution_count": 9,
     "metadata": {},
     "output_type": "execute_result"
    }
   ],
   "source": [
    "sklearn.metrics.fbeta_score(y_test, models_validation_preds[i], beta=2, average=None)"
   ]
  },
  {
   "cell_type": "code",
   "execution_count": 10,
   "metadata": {},
   "outputs": [
    {
     "data": {
      "text/plain": [
       "['deceased', 'hospitalized', 'nonhospitalized', 'recovered']"
      ]
     },
     "execution_count": 10,
     "metadata": {},
     "output_type": "execute_result"
    }
   ],
   "source": [
    "data.encoder.classes_.tolist()"
   ]
  },
  {
   "cell_type": "markdown",
   "metadata": {},
   "source": [
    "## Confusion matrices for the best performing model"
   ]
  },
  {
   "cell_type": "code",
   "execution_count": 11,
   "metadata": {},
   "outputs": [
    {
     "data": {
      "text/plain": [
       "<sklearn.metrics._plot.confusion_matrix.ConfusionMatrixDisplay at 0x266291fbec8>"
      ]
     },
     "execution_count": 11,
     "metadata": {},
     "output_type": "execute_result"
    },
    {
     "data": {
      "image/png": "[encoded data removed]",
      "text/plain": [
       "<Figure size 432x288 with 2 Axes>"
      ]
     },
     "metadata": {
      "needs_background": "light"
     },
     "output_type": "display_data"
    },
    {
     "data": {
      "image/png": "[encoded data removed]",
      "text/plain": [
       "<Figure size 432x288 with 2 Axes>"
      ]
     },
     "metadata": {
      "needs_background": "light"
     },
     "output_type": "display_data"
    }
   ],
   "source": [
    "conf_matrix_train = sklearn.metrics.confusion_matrix(y_train.values, models_training_preds[i])\n",
    "conf_matrix_val = sklearn.metrics.confusion_matrix(y_test.values, models_validation_preds[i])\n",
    "\n",
    "sklearn.metrics.ConfusionMatrixDisplay(conf_matrix_train).plot()\n",
    "sklearn.metrics.ConfusionMatrixDisplay(conf_matrix_val).plot()"
   ]
  },
  {
   "cell_type": "markdown",
   "metadata": {},
   "source": [
    "## Model 2: Adaboost"
   ]
  },
  {
   "cell_type": "code",
   "execution_count": 12,
   "metadata": {},
   "outputs": [],
   "source": [
    "# adaboost = AdaBoostClassifier(DecisionTreeClassifier(max_depth = 20),n_estimators = 25, learning_rate = 1)\n",
    "# adaboost.fit(X_train, y_train)\n",
    "with open('./data/adaboost_model.pkl', 'rb') as f:\n",
    "    adaboost = pickle.load(f)"
   ]
  },
  {
   "cell_type": "markdown",
   "metadata": {},
   "source": [
    "### Training Set Accuracy Score"
   ]
  },
  {
   "cell_type": "code",
   "execution_count": 13,
   "metadata": {},
   "outputs": [
    {
     "data": {
      "text/plain": [
       "0.8648444981710285"
      ]
     },
     "execution_count": 13,
     "metadata": {},
     "output_type": "execute_result"
    }
   ],
   "source": [
    "adaboost.score(X_train,y_train)"
   ]
  },
  {
   "cell_type": "markdown",
   "metadata": {},
   "source": [
    "### Test set Accuracy Score"
   ]
  },
  {
   "cell_type": "code",
   "execution_count": 14,
   "metadata": {},
   "outputs": [
    {
     "data": {
      "text/plain": [
       "0.8668520678209384"
      ]
     },
     "execution_count": 14,
     "metadata": {},
     "output_type": "execute_result"
    }
   ],
   "source": [
    "adaboost.score(X_test,y_test)"
   ]
  },
  {
   "cell_type": "markdown",
   "metadata": {},
   "source": [
    "### Confusion Matrices"
   ]
  },
  {
   "cell_type": "markdown",
   "metadata": {},
   "source": [
    "#### Test Data Set"
   ]
  },
  {
   "cell_type": "code",
   "execution_count": 15,
   "metadata": {},
   "outputs": [
    {
     "data": {
      "text/plain": [
       "<sklearn.metrics._plot.confusion_matrix.ConfusionMatrixDisplay at 0x266294996c8>"
      ]
     },
     "execution_count": 15,
     "metadata": {},
     "output_type": "execute_result"
    },
    {
     "data": {
      "image/png": "[encoded data removed]",
      "text/plain": [
       "<Figure size 432x288 with 2 Axes>"
      ]
     },
     "metadata": {
      "needs_background": "light"
     },
     "output_type": "display_data"
    }
   ],
   "source": [
    "y_test_pred = adaboost.predict(X_test)\n",
    "test_matrix = confusion_matrix(y_test, y_test_pred)\n",
    "ConfusionMatrixDisplay(test_matrix).plot()"
   ]
  },
  {
   "cell_type": "markdown",
   "metadata": {},
   "source": [
    "#### Training Data Set"
   ]
  },
  {
   "cell_type": "code",
   "execution_count": 16,
   "metadata": {},
   "outputs": [
    {
     "data": {
      "text/plain": [
       "<sklearn.metrics._plot.confusion_matrix.ConfusionMatrixDisplay at 0x26629498608>"
      ]
     },
     "execution_count": 16,
     "metadata": {},
     "output_type": "execute_result"
    },
    {
     "data": {
      "image/png": "[encoded data removed]",
      "text/plain": [
       "<Figure size 432x288 with 2 Axes>"
      ]
     },
     "metadata": {
      "needs_background": "light"
     },
     "output_type": "display_data"
    }
   ],
   "source": [
    "y_train_pred = adaboost.predict(X_train)\n",
    "train_matrix = confusion_matrix(y_train, y_train_pred)\n",
    "ConfusionMatrixDisplay(train_matrix).plot()"
   ]
  },
  {
   "cell_type": "markdown",
   "metadata": {},
   "source": [
    "####  F-2 Scores"
   ]
  },
  {
   "cell_type": "code",
   "execution_count": 17,
   "metadata": {},
   "outputs": [
    {
     "name": "stdout",
     "output_type": "stream",
     "text": [
      "F_2 score of Adaboost on training dataset: 0.6381\n",
      "F_2 score of Adaboost on validation dataset: 0.6433\n"
     ]
    }
   ],
   "source": [
    "print(f'F_2 score of Adaboost on training dataset: {sklearn.metrics.fbeta_score(y_train, y_train_pred, beta=2, average=\"macro\"):.4f}')\n",
    "print(f'F_2 score of Adaboost on validation dataset: {sklearn.metrics.fbeta_score(y_test, y_test_pred, beta=2, average=\"macro\"):.4f}')"
   ]
  },
  {
   "cell_type": "code",
   "execution_count": 18,
   "metadata": {},
   "outputs": [
    {
     "data": {
      "text/plain": [
       "array([0.18607443, 0.88593681, 0.99679076, 0.50420998])"
      ]
     },
     "execution_count": 18,
     "metadata": {},
     "output_type": "execute_result"
    }
   ],
   "source": [
    "sklearn.metrics.fbeta_score(y_test, y_test_pred, beta=2, average=None)"
   ]
  },
  {
   "cell_type": "code",
   "execution_count": 19,
   "metadata": {},
   "outputs": [],
   "source": [
    "import matplotlib.pyplot as plts\n",
    "\n",
    "ranges = [2, 5, 10, 15, 20, 25, 30, 35, 40, 45]\n",
    "training_accuracy = list()\n",
    "test_accuracy = list()\n",
    "training_f2score = list()\n",
    "test_f2score = list()\n",
    "\n",
    "for i in ranges:\n",
    "    adaboost_overfit = AdaBoostClassifier(DecisionTreeClassifier(max_depth = i),n_estimators = 25, learning_rate = 1)\n",
    "    adaboost_overfit.fit(X_train,y_train) \n",
    "    training_accuracy.append(adaboost_overfit.score(X_train,y_train))\n",
    "    test_accuracy.append(adaboost_overfit.score(X_test,y_test))\n",
    "    y_test_predict = adaboost_overfit.predict(X_test)\n",
    "    y_train_predict = adaboost_overfit.predict(X_train)\n",
    "    training_f2score.append(sklearn.metrics.fbeta_score(y_train, y_train_predict, beta=2, average=\"macro\"))\n",
    "    test_f2score.append(sklearn.metrics.fbeta_score(y_test, y_test_predict, beta=2, average=\"macro\"))\n",
    "\n",
    "# Scores for loaded tree size n = 50 Adaboost Classifier\n",
    "training_accuracy.append(adaboost.score(X_train,y_train))\n",
    "test_accuracy.append(adaboost.score(X_test,y_test))\n",
    "training_f2score.append(sklearn.metrics.fbeta_score(y_train, y_train_pred, beta=2, average=\"macro\"))\n",
    "test_f2score.append(sklearn.metrics.fbeta_score(y_test, y_test_pred, beta=2, average=\"macro\"))"
   ]
  },
  {
   "cell_type": "code",
   "execution_count": 25,
   "metadata": {},
   "outputs": [
    {
     "data": {
      "text/plain": [
       "<matplotlib.legend.Legend at 0x2664b1d5ec8>"
      ]
     },
     "execution_count": 25,
     "metadata": {},
     "output_type": "execute_result"
    },
    {
     "data": {
      "image/png": "[encoded data removed]",
      "text/plain": [
       "<Figure size 432x288 with 1 Axes>"
      ]
     },
     "metadata": {
      "needs_background": "light"
     },
     "output_type": "display_data"
    }
   ],
   "source": [
    "ranges.append(50)\n",
    "dict_accuracy = {'Tree_Size': ranges, 'Training_Accuracy': training_accuracy, 'Test_Accuracy': test_accuracy, 'Training_F2': training_f2score, 'Test_F2': test_f2score}  \n",
    "df = pd.DataFrame(dict_accuracy)\n",
    "plts.plot( 'Tree_Size', 'Training_Accuracy', data=df, marker='', color='blue', linewidth=2, label=\"Training Accuracy\")\n",
    "plts.plot( 'Tree_Size', 'Test_Accuracy', data=df, marker='', color='orange', linewidth=2, linestyle='dashed', label=\"Test Accuracy\")\n",
    "plts.legend()"
   ]
  },
  {
   "cell_type": "code",
   "execution_count": 26,
   "metadata": {},
   "outputs": [
    {
     "data": {
      "text/plain": [
       "<matplotlib.legend.Legend at 0x2662958f648>"
      ]
     },
     "execution_count": 26,
     "metadata": {},
     "output_type": "execute_result"
    },
    {
     "data": {
      "image/png": "[encoded data removed]",
      "text/plain": [
       "<Figure size 432x288 with 1 Axes>"
      ]
     },
     "metadata": {
      "needs_background": "light"
     },
     "output_type": "display_data"
    }
   ],
   "source": [
    "plts.plot( 'Tree_Size', 'Training_F2', data=df, marker='', color='green', linewidth=2, label=\"Training F2 Score\")\n",
    "plts.plot( 'Tree_Size', 'Test_F2', data=df, marker='', color='green', linewidth=2, linestyle='dashed', label=\"Test F2 Score\")\n",
    "plts.legend()"
   ]
  },
  {
   "cell_type": "markdown",
   "metadata": {},
   "source": [
    "## Model 3: K-Nearest Neighbors"
   ]
  },
  {
   "cell_type": "code",
   "execution_count": 27,
   "metadata": {},
   "outputs": [
    {
     "data": {
      "text/plain": [
       "KNeighborsClassifier(n_neighbors=10)"
      ]
     },
     "execution_count": 27,
     "metadata": {},
     "output_type": "execute_result"
    }
   ],
   "source": [
    "#knn = KNeighborsClassifier(n_neighbors=10)\n",
    "#knn.fit(X_train, y_train)\n",
    "with open('./data/knn_model.pkl', 'rb') as knn_file:\n",
    "    knn = pickle.load(knn_file)\n",
    "knn"
   ]
  },
  {
   "cell_type": "markdown",
   "metadata": {},
   "source": [
    "#### Training Set Accuracy Score"
   ]
  },
  {
   "cell_type": "code",
   "execution_count": 28,
   "metadata": {},
   "outputs": [
    {
     "data": {
      "text/plain": [
       "0.8544896709645442"
      ]
     },
     "execution_count": 28,
     "metadata": {},
     "output_type": "execute_result"
    }
   ],
   "source": [
    "knn.score(X_train,y_train)"
   ]
  },
  {
   "cell_type": "markdown",
   "metadata": {},
   "source": [
    "#### Test Set Accuracy Score"
   ]
  },
  {
   "cell_type": "code",
   "execution_count": 29,
   "metadata": {},
   "outputs": [
    {
     "data": {
      "text/plain": [
       "0.8558356508477617"
      ]
     },
     "execution_count": 29,
     "metadata": {},
     "output_type": "execute_result"
    }
   ],
   "source": [
    "knn.score(X_test,y_test)"
   ]
  },
  {
   "cell_type": "markdown",
   "metadata": {},
   "source": [
    "#### Test Data Set"
   ]
  },
  {
   "cell_type": "code",
   "execution_count": 30,
   "metadata": {},
   "outputs": [
    {
     "data": {
      "text/plain": [
       "<sklearn.metrics._plot.confusion_matrix.ConfusionMatrixDisplay at 0x2665d4ca0c8>"
      ]
     },
     "execution_count": 30,
     "metadata": {},
     "output_type": "execute_result"
    },
    {
     "data": {
      "image/png": "[encoded data removed]",
      "text/plain": [
       "<Figure size 432x288 with 2 Axes>"
      ]
     },
     "metadata": {
      "needs_background": "light"
     },
     "output_type": "display_data"
    }
   ],
   "source": [
    "y_test_pred = knn.predict(X_test)\n",
    "test_matrix = confusion_matrix(y_test, y_test_pred)\n",
    "ConfusionMatrixDisplay(test_matrix).plot()"
   ]
  },
  {
   "cell_type": "markdown",
   "metadata": {},
   "source": [
    "#### Training Dataset"
   ]
  },
  {
   "cell_type": "code",
   "execution_count": 31,
   "metadata": {},
   "outputs": [
    {
     "data": {
      "text/plain": [
       "<sklearn.metrics._plot.confusion_matrix.ConfusionMatrixDisplay at 0x2665d4ccd48>"
      ]
     },
     "execution_count": 31,
     "metadata": {},
     "output_type": "execute_result"
    },
    {
     "data": {
      "image/png": "[encoded data removed]",
      "text/plain": [
       "<Figure size 432x288 with 2 Axes>"
      ]
     },
     "metadata": {
      "needs_background": "light"
     },
     "output_type": "display_data"
    }
   ],
   "source": [
    "y_train_pred = knn.predict(X_train)\n",
    "train_matrix = confusion_matrix(y_train, y_train_pred)\n",
    "ConfusionMatrixDisplay(train_matrix).plot()"
   ]
  },
  {
   "cell_type": "markdown",
   "metadata": {},
   "source": [
    "### F-2 Scores"
   ]
  },
  {
   "cell_type": "code",
   "execution_count": 32,
   "metadata": {},
   "outputs": [
    {
     "name": "stdout",
     "output_type": "stream",
     "text": [
      "F_2 score of KNN on training dataset: 0.5924\n",
      "F_2 score of KNN on validation dataset: 0.5955\n"
     ]
    }
   ],
   "source": [
    "print(f'F_2 score of KNN on training dataset: {sklearn.metrics.fbeta_score(y_train, y_train_pred, beta=2, average=\"macro\"):.4f}')\n",
    "print(f'F_2 score of KNN on validation dataset: {sklearn.metrics.fbeta_score(y_test, y_test_pred, beta=2, average=\"macro\"):.4f}')"
   ]
  },
  {
   "cell_type": "markdown",
   "metadata": {},
   "source": [
    "### Overfitting graphs"
   ]
  },
  {
   "cell_type": "code",
   "execution_count": null,
   "metadata": {},
   "outputs": [],
   "source": [
    "dist_forumla = 1 # Manhattan\n",
    "#dist_forumla = 2 # Euclidean\n",
    "#dist_forumla = 3 # Minkowski\n",
    "\n",
    "ranges = [5, 10, 20, 30, 40, 50, 60, 70, 80, 90, 100]\n",
    "training_accuracy = list()\n",
    "test_accuracy = list()\n",
    "training_f2score = list()\n",
    "test_f2score = list()\n",
    "\n",
    "for i in ranges:\n",
    "    knn = KNeighborsClassifier(n_neighbors=i, p=dist_forumla)\n",
    "    knn.fit(X_train,y_train) \n",
    "    training_accuracy.append(knn.score(X_train,y_train))\n",
    "    test_accuracy.append(knn.score(X_test,y_test))\n",
    "    y_test_predict = knn.predict(X_test)\n",
    "    y_train_predict = knn.predict(X_train)\n",
    "    training_f2score.append(sklearn.metrics.fbeta_score(y_train, y_train_predict, beta=2, average=\"macro\"))\n",
    "    test_f2score.append(sklearn.metrics.fbeta_score(y_test, y_test_predict, beta=2, average=\"macro\"))\n",
    "\n",
    "\n",
    "dict_accuracy = {'K_Values': ranges, 'Training_Accuracy': training_accuracy, 'Test_Accuracy': test_accuracy, 'Training_F2': training_f2score, 'Test_F2': test_f2score}  \n",
    "df = pd.DataFrame(dict_accuracy)\n",
    "plts.plot( 'K_Values', 'Training_Accuracy', data=df, marker='', color='blue', linewidth=2, label=\"Training Accuracy\")\n",
    "plts.plot( 'K_Values', 'Test_Accuracy', data=df, marker='', color='red', linewidth=2, linestyle='dashed', label=\"Test Accuracy\")\n",
    "plts.legend()\n"
   ]
  },
  {
   "cell_type": "code",
   "execution_count": null,
   "metadata": {},
   "outputs": [],
   "source": []
  }
 ],
 "metadata": {
  "kernelspec": {
   "display_name": "Python 3",
   "language": "python",
   "name": "python3"
  },
  "language_info": {
   "codemirror_mode": {
    "name": "ipython",
    "version": 3
   },
   "file_extension": ".py",
   "mimetype": "text/x-python",
   "name": "python",
   "nbconvert_exporter": "python",
   "pygments_lexer": "ipython3",
   "version": "3.6.5"
  }
 },
 "nbformat": 4,
 "nbformat_minor": 4
}
