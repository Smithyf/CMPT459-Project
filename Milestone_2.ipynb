{
 "cells": [
  {
   "cell_type": "code",
   "execution_count": 1,
   "metadata": {},
   "outputs": [],
   "source": [
    "%load_ext autoreload\n",
    "%autoreload 2\n",
    "\n",
    "import pandas as pd\n",
    "import numpy as np\n",
    "from data import CleanedData\n",
    "from models import nn\n",
    "import sklearn.metrics\n",
    "import torch\n",
    "import sklearn.metrics\n",
    "import matplotlib.pyplot as plt\n",
    "\n",
    "# For Adaboost\n",
    "from sklearn.metrics import confusion_matrix, ConfusionMatrixDisplay\n",
    "from sklearn.model_selection import train_test_split\n",
    "from sklearn.tree import DecisionTreeClassifier\n",
    "from sklearn.ensemble import AdaBoostClassifier\n",
    "import pickle"
   ]
  },
  {
   "cell_type": "markdown",
   "metadata": {},
   "source": [
    "## Data imputing, cleaning and feature extraction"
   ]
  },
  {
   "cell_type": "code",
   "execution_count": 2,
   "metadata": {},
   "outputs": [
    {
     "name": "stderr",
     "output_type": "stream",
     "text": [
      "/opt/miniconda3/envs/cmpt353/lib/python3.8/site-packages/sklearn/utils/validation.py:72: DataConversionWarning: A column-vector y was passed when a 1d array was expected. Please change the shape of y to (n_samples, ), for example using ravel().\n",
      "  return f(**kwargs)\n"
     ]
    }
   ],
   "source": [
    "data = CleanedData(loc='./data/joined.csv.gz', test_ratio=0.2, impute_data=True, convert_non_numerical=True, normalize_data=True, drop_columns=['source', 'Last_Update','province','country','latitude', 'longitude'])"
   ]
  },
  {
   "cell_type": "markdown",
   "metadata": {},
   "source": [
    "## Splitting data to test and training data"
   ]
  },
  {
   "cell_type": "code",
   "execution_count": 3,
   "metadata": {},
   "outputs": [],
   "source": [
    "X_train, y_train = data.training_data\n",
    "X_test, y_test = data.test_data"
   ]
  },
  {
   "cell_type": "code",
   "execution_count": 4,
   "metadata": {},
   "outputs": [
    {
     "data": {
      "text/html": [
       "<div>\n",
       "<style scoped>\n",
       "    .dataframe tbody tr th:only-of-type {\n",
       "        vertical-align: middle;\n",
       "    }\n",
       "\n",
       "    .dataframe tbody tr th {\n",
       "        vertical-align: top;\n",
       "    }\n",
       "\n",
       "    .dataframe thead th {\n",
       "        text-align: right;\n",
       "    }\n",
       "</style>\n",
       "<table border=\"1\" class=\"dataframe\">\n",
       "  <thead>\n",
       "    <tr style=\"text-align: right;\">\n",
       "      <th></th>\n",
       "      <th>age</th>\n",
       "      <th>Lat</th>\n",
       "      <th>Long_</th>\n",
       "      <th>Confirmed</th>\n",
       "      <th>Deaths</th>\n",
       "      <th>Recovered</th>\n",
       "      <th>Active</th>\n",
       "      <th>Incidence_Rate</th>\n",
       "      <th>Case-Fatality_Ratio</th>\n",
       "      <th>confirmed_day</th>\n",
       "      <th>in_contact</th>\n",
       "      <th>transformed_Combined_Key</th>\n",
       "      <th>transformed_sex</th>\n",
       "    </tr>\n",
       "  </thead>\n",
       "  <tbody>\n",
       "    <tr>\n",
       "      <th>175606</th>\n",
       "      <td>35.000000</td>\n",
       "      <td>14.705180</td>\n",
       "      <td>76.166436</td>\n",
       "      <td>13.128310</td>\n",
       "      <td>8.962904</td>\n",
       "      <td>12.884172</td>\n",
       "      <td>11.524340</td>\n",
       "      <td>6.612669</td>\n",
       "      <td>1.552342</td>\n",
       "      <td>145.0</td>\n",
       "      <td>0.0</td>\n",
       "      <td>217.0</td>\n",
       "      <td>0.0</td>\n",
       "    </tr>\n",
       "    <tr>\n",
       "      <th>6588</th>\n",
       "      <td>38.670788</td>\n",
       "      <td>23.814082</td>\n",
       "      <td>87.979803</td>\n",
       "      <td>12.295785</td>\n",
       "      <td>8.352790</td>\n",
       "      <td>12.154890</td>\n",
       "      <td>10.106796</td>\n",
       "      <td>5.391945</td>\n",
       "      <td>1.939005</td>\n",
       "      <td>152.0</td>\n",
       "      <td>0.0</td>\n",
       "      <td>489.0</td>\n",
       "      <td>2.0</td>\n",
       "    </tr>\n",
       "    <tr>\n",
       "      <th>378422</th>\n",
       "      <td>18.000000</td>\n",
       "      <td>-11.766533</td>\n",
       "      <td>-76.604498</td>\n",
       "      <td>12.763306</td>\n",
       "      <td>9.547455</td>\n",
       "      <td>0.000000</td>\n",
       "      <td>12.722357</td>\n",
       "      <td>8.097181</td>\n",
       "      <td>4.012120</td>\n",
       "      <td>142.0</td>\n",
       "      <td>0.0</td>\n",
       "      <td>238.0</td>\n",
       "      <td>1.0</td>\n",
       "    </tr>\n",
       "    <tr>\n",
       "      <th>272492</th>\n",
       "      <td>40.649202</td>\n",
       "      <td>19.449759</td>\n",
       "      <td>76.108221</td>\n",
       "      <td>13.970372</td>\n",
       "      <td>10.366939</td>\n",
       "      <td>13.634507</td>\n",
       "      <td>12.615772</td>\n",
       "      <td>6.854431</td>\n",
       "      <td>2.723007</td>\n",
       "      <td>125.0</td>\n",
       "      <td>0.0</td>\n",
       "      <td>252.0</td>\n",
       "      <td>2.0</td>\n",
       "    </tr>\n",
       "    <tr>\n",
       "      <th>177780</th>\n",
       "      <td>39.926720</td>\n",
       "      <td>19.449759</td>\n",
       "      <td>76.108221</td>\n",
       "      <td>13.970372</td>\n",
       "      <td>10.366939</td>\n",
       "      <td>13.634507</td>\n",
       "      <td>12.615772</td>\n",
       "      <td>6.854431</td>\n",
       "      <td>2.723007</td>\n",
       "      <td>136.0</td>\n",
       "      <td>0.0</td>\n",
       "      <td>252.0</td>\n",
       "      <td>2.0</td>\n",
       "    </tr>\n",
       "  </tbody>\n",
       "</table>\n",
       "</div>"
      ],
      "text/plain": [
       "              age        Lat      Long_  Confirmed     Deaths  Recovered  \\\n",
       "175606  35.000000  14.705180  76.166436  13.128310   8.962904  12.884172   \n",
       "6588    38.670788  23.814082  87.979803  12.295785   8.352790  12.154890   \n",
       "378422  18.000000 -11.766533 -76.604498  12.763306   9.547455   0.000000   \n",
       "272492  40.649202  19.449759  76.108221  13.970372  10.366939  13.634507   \n",
       "177780  39.926720  19.449759  76.108221  13.970372  10.366939  13.634507   \n",
       "\n",
       "           Active  Incidence_Rate  Case-Fatality_Ratio  confirmed_day  \\\n",
       "175606  11.524340        6.612669             1.552342          145.0   \n",
       "6588    10.106796        5.391945             1.939005          152.0   \n",
       "378422  12.722357        8.097181             4.012120          142.0   \n",
       "272492  12.615772        6.854431             2.723007          125.0   \n",
       "177780  12.615772        6.854431             2.723007          136.0   \n",
       "\n",
       "        in_contact  transformed_Combined_Key  transformed_sex  \n",
       "175606         0.0                     217.0              0.0  \n",
       "6588           0.0                     489.0              2.0  \n",
       "378422         0.0                     238.0              1.0  \n",
       "272492         0.0                     252.0              2.0  \n",
       "177780         0.0                     252.0              2.0  "
      ]
     },
     "execution_count": 4,
     "metadata": {},
     "output_type": "execute_result"
    }
   ],
   "source": [
    "X_train.head(5)"
   ]
  },
  {
   "cell_type": "markdown",
   "metadata": {},
   "source": [
    "## Model 1 variations, neural network with different hyperparameters and architectures"
   ]
  },
  {
   "cell_type": "code",
   "execution_count": 5,
   "metadata": {},
   "outputs": [],
   "source": [
    "models = []\n",
    "trained_models = 13\n",
    "for i in range(trained_models):\n",
    "    models.append(nn.network_1())\n",
    "    nn.load_model(models[i], f'./models/weights/model_{i}.pth')"
   ]
  },
  {
   "cell_type": "markdown",
   "metadata": {},
   "source": [
    "## Accuracy of each model on training and validation data"
   ]
  },
  {
   "cell_type": "code",
   "execution_count": 6,
   "metadata": {},
   "outputs": [
    {
     "name": "stdout",
     "output_type": "stream",
     "text": [
      "training accuracy of model_1: 81.01%\n",
      "validation accuracy of model_1: 81.10%\n",
      "training accuracy of model_2: 84.38%\n",
      "validation accuracy of model_2: 84.44%\n",
      "training accuracy of model_3: 82.91%\n",
      "validation accuracy of model_3: 82.96%\n",
      "training accuracy of model_4: 82.90%\n",
      "validation accuracy of model_4: 82.93%\n",
      "training accuracy of model_5: 83.03%\n",
      "validation accuracy of model_5: 83.11%\n",
      "training accuracy of model_6: 83.12%\n",
      "validation accuracy of model_6: 83.19%\n",
      "training accuracy of model_7: 82.17%\n",
      "validation accuracy of model_7: 82.28%\n",
      "training accuracy of model_8: 84.36%\n",
      "validation accuracy of model_8: 84.47%\n",
      "training accuracy of model_9: 84.49%\n",
      "validation accuracy of model_9: 84.50%\n",
      "training accuracy of model_10: 84.80%\n",
      "validation accuracy of model_10: 84.86%\n",
      "training accuracy of model_11: 84.93%\n",
      "validation accuracy of model_11: 85.01%\n",
      "training accuracy of model_12: 84.76%\n",
      "validation accuracy of model_12: 84.85%\n",
      "training accuracy of model_13: 84.84%\n",
      "validation accuracy of model_13: 84.91%\n"
     ]
    }
   ],
   "source": [
    "for i in range(trained_models):\n",
    "    print(f'training accuracy of model_{i+1}: {nn.eval(models[i], X_train, y_train):.2f}%')\n",
    "    print(f'validation accuracy of model_{i+1}: {nn.eval(models[i], X_test, y_test):.2f}%')"
   ]
  },
  {
   "cell_type": "markdown",
   "metadata": {},
   "source": [
    "## Making predictions"
   ]
  },
  {
   "cell_type": "code",
   "execution_count": 7,
   "metadata": {},
   "outputs": [],
   "source": [
    "models_training_preds = []\n",
    "models_validation_preds = []\n",
    "for i in range(trained_models):\n",
    "    models_training_preds.append(torch.argmax(torch.softmax(models[i](torch.tensor(X_train.values).float()), dim=1), dim=1))\n",
    "    models_validation_preds.append(torch.argmax(torch.softmax(models[i](torch.tensor(X_test.values).float()), dim=1), dim=1))"
   ]
  },
  {
   "cell_type": "markdown",
   "metadata": {},
   "source": [
    "## F-2 scores of different models "
   ]
  },
  {
   "cell_type": "code",
   "execution_count": 8,
   "metadata": {},
   "outputs": [
    {
     "data": {
      "text/plain": [
       "<matplotlib.legend.Legend at 0x7fefcf10f9a0>"
      ]
     },
     "execution_count": 8,
     "metadata": {},
     "output_type": "execute_result"
    },
    {
     "data": {
      "image/png": "[encoded data removed]",
      "text/plain": [
       "<Figure size 432x288 with 1 Axes>"
      ]
     },
     "metadata": {
      "needs_background": "light"
     },
     "output_type": "display_data"
    }
   ],
   "source": [
    "fscore_training = []\n",
    "fscore_validation = []\n",
    "for i in range(trained_models):\n",
    "    fscore_training.append(sklearn.metrics.fbeta_score(y_train, models_training_preds[i], beta=2, average=\"macro\"))\n",
    "    fscore_validation.append(sklearn.metrics.fbeta_score(y_test, models_validation_preds[i], beta=2, average=\"macro\"))\n",
    "\n",
    "plt.plot(fscore_training,)\n",
    "plt.plot(fscore_validation,linestyle='dashed')\n",
    "plt.legend(['training', 'validation'])"
   ]
  },
  {
   "cell_type": "code",
   "execution_count": 9,
   "metadata": {},
   "outputs": [
    {
     "data": {
      "text/plain": [
       "array([0.07689195, 0.92116667, 0.99472529, 0.27022658])"
      ]
     },
     "execution_count": 9,
     "metadata": {},
     "output_type": "execute_result"
    }
   ],
   "source": [
    "sklearn.metrics.fbeta_score(y_test, models_validation_preds[i], beta=2, average=None)"
   ]
  },
  {
   "cell_type": "code",
   "execution_count": 10,
   "metadata": {},
   "outputs": [
    {
     "data": {
      "text/plain": [
       "['deceased', 'hospitalized', 'nonhospitalized', 'recovered']"
      ]
     },
     "execution_count": 10,
     "metadata": {},
     "output_type": "execute_result"
    }
   ],
   "source": [
    "data.encoder.classes_.tolist()"
   ]
  },
  {
   "cell_type": "markdown",
   "metadata": {},
   "source": [
    "## Confusion matrices for the best performing model"
   ]
  },
  {
   "cell_type": "code",
   "execution_count": 11,
   "metadata": {},
   "outputs": [
    {
     "data": {
      "text/plain": [
       "<sklearn.metrics._plot.confusion_matrix.ConfusionMatrixDisplay at 0x7fefce103fd0>"
      ]
     },
     "execution_count": 11,
     "metadata": {},
     "output_type": "execute_result"
    },
    {
     "data": {
      "image/png": "[encoded data removed]",
      "text/plain": [
       "<Figure size 432x288 with 2 Axes>"
      ]
     },
     "metadata": {
      "needs_background": "light"
     },
     "output_type": "display_data"
    },
    {
     "data": {
      "image/png": "[encoded data removed]",
      "text/plain": [
       "<Figure size 432x288 with 2 Axes>"
      ]
     },
     "metadata": {
      "needs_background": "light"
     },
     "output_type": "display_data"
    }
   ],
   "source": [
    "conf_matrix_train = sklearn.metrics.confusion_matrix(y_train.values, models_training_preds[i])\n",
    "conf_matrix_val = sklearn.metrics.confusion_matrix(y_test.values, models_validation_preds[i])\n",
    "\n",
    "sklearn.metrics.ConfusionMatrixDisplay(conf_matrix_train).plot()\n",
    "sklearn.metrics.ConfusionMatrixDisplay(conf_matrix_val).plot()"
   ]
  },
  {
   "cell_type": "markdown",
   "metadata": {},
   "source": [
    "## Model 2: Adaboost"
   ]
  },
  {
   "cell_type": "code",
   "execution_count": 12,
   "metadata": {},
   "outputs": [],
   "source": [
    "# adaboost = AdaBoostClassifier(DecisionTreeClassifier(max_depth = 20),n_estimators = 25, learning_rate = 1)\n",
    "# adaboost.fit(X_train, y_train)\n",
    "with open('./data/adaboost_model.pkl', 'rb') as f:\n",
    "    adaboost = pickle.load(f)"
   ]
  },
  {
   "cell_type": "markdown",
   "metadata": {},
   "source": [
    "### Training Set Accuracy Score"
   ]
  },
  {
   "cell_type": "code",
   "execution_count": 13,
   "metadata": {},
   "outputs": [
    {
     "data": {
      "text/plain": [
       "0.8654433153389148"
      ]
     },
     "execution_count": 13,
     "metadata": {},
     "output_type": "execute_result"
    }
   ],
   "source": [
    "adaboost.score(X_train,y_train)"
   ]
  },
  {
   "cell_type": "markdown",
   "metadata": {},
   "source": [
    "### Test set Accuracy Score"
   ]
  },
  {
   "cell_type": "code",
   "execution_count": 14,
   "metadata": {},
   "outputs": [
    {
     "data": {
      "text/plain": [
       "0.8644657755449897"
      ]
     },
     "execution_count": 14,
     "metadata": {},
     "output_type": "execute_result"
    }
   ],
   "source": [
    "adaboost.score(X_test,y_test)"
   ]
  },
  {
   "cell_type": "markdown",
   "metadata": {},
   "source": [
    "### Confusion Matrices"
   ]
  },
  {
   "cell_type": "markdown",
   "metadata": {},
   "source": [
    "#### Test Data Set"
   ]
  },
  {
   "cell_type": "code",
   "execution_count": 15,
   "metadata": {},
   "outputs": [
    {
     "data": {
      "text/plain": [
       "<sklearn.metrics._plot.confusion_matrix.ConfusionMatrixDisplay at 0x7fefcbb8d640>"
      ]
     },
     "execution_count": 15,
     "metadata": {},
     "output_type": "execute_result"
    },
    {
     "data": {
      "image/png": "[encoded data removed]",
      "text/plain": [
       "<Figure size 432x288 with 2 Axes>"
      ]
     },
     "metadata": {
      "needs_background": "light"
     },
     "output_type": "display_data"
    }
   ],
   "source": [
    "y_test_pred = adaboost.predict(X_test)\n",
    "test_matrix = confusion_matrix(y_test, y_test_pred)\n",
    "ConfusionMatrixDisplay(test_matrix).plot()"
   ]
  },
  {
   "cell_type": "markdown",
   "metadata": {},
   "source": [
    "#### Training Data Set"
   ]
  },
  {
   "cell_type": "code",
   "execution_count": 16,
   "metadata": {},
   "outputs": [
    {
     "data": {
      "text/plain": [
       "<sklearn.metrics._plot.confusion_matrix.ConfusionMatrixDisplay at 0x7fefcf66e130>"
      ]
     },
     "execution_count": 16,
     "metadata": {},
     "output_type": "execute_result"
    },
    {
     "data": {
      "image/png": "[encoded data removed]",
      "text/plain": [
       "<Figure size 432x288 with 2 Axes>"
      ]
     },
     "metadata": {
      "needs_background": "light"
     },
     "output_type": "display_data"
    }
   ],
   "source": [
    "y_train_pred = adaboost.predict(X_train)\n",
    "train_matrix = confusion_matrix(y_train, y_train_pred)\n",
    "ConfusionMatrixDisplay(train_matrix).plot()"
   ]
  },
  {
   "cell_type": "markdown",
   "metadata": {},
   "source": [
    "####  F-2 Scores"
   ]
  },
  {
   "cell_type": "code",
   "execution_count": 17,
   "metadata": {},
   "outputs": [
    {
     "name": "stdout",
     "output_type": "stream",
     "text": [
      "F_2 score of Adaboost on training dataset: 0.6401\n",
      "F_2 score of Adaboost on validation dataset: 0.6356\n"
     ]
    }
   ],
   "source": [
    "print(f'F_2 score of Adaboost on training dataset: {sklearn.metrics.fbeta_score(y_train, y_train_pred, beta=2, average=\"macro\"):.4f}')\n",
    "print(f'F_2 score of Adaboost on validation dataset: {sklearn.metrics.fbeta_score(y_test, y_test_pred, beta=2, average=\"macro\"):.4f}')"
   ]
  },
  {
   "cell_type": "code",
   "execution_count": 18,
   "metadata": {},
   "outputs": [
    {
     "data": {
      "text/plain": [
       "array([0.16500683, 0.88344976, 0.99656351, 0.49718626])"
      ]
     },
     "execution_count": 18,
     "metadata": {},
     "output_type": "execute_result"
    }
   ],
   "source": [
    "sklearn.metrics.fbeta_score(y_test, y_test_pred, beta=2, average=None)"
   ]
  },
  {
   "cell_type": "code",
   "execution_count": 19,
   "metadata": {},
   "outputs": [],
   "source": [
    "import matplotlib.pyplot as plts\n",
    "\n",
    "ranges = [2, 5, 10, 15, 20, 25, 30, 35, 40, 45]\n",
    "training_accuracy = list()\n",
    "test_accuracy = list()\n",
    "training_f2score = list()\n",
    "test_f2score = list()\n",
    "\n",
    "for i in ranges:\n",
    "    adaboost_overfit = AdaBoostClassifier(DecisionTreeClassifier(max_depth = i),n_estimators = 25, learning_rate = 1)\n",
    "    adaboost_overfit.fit(X_train,y_train) \n",
    "    training_accuracy.append(adaboost_overfit.score(X_train,y_train))\n",
    "    test_accuracy.append(adaboost_overfit.score(X_test,y_test))\n",
    "    y_test_predict = adaboost_overfit.predict(X_test)\n",
    "    y_train_predict = adaboost_overfit.predict(X_train)\n",
    "    training_f2score.append(sklearn.metrics.fbeta_score(y_train, y_train_predict, beta=2, average=\"macro\"))\n",
    "    test_f2score.append(sklearn.metrics.fbeta_score(y_test, y_test_predict, beta=2, average=\"macro\"))\n",
    "\n",
    "# Scores for loaded tree size n = 50 Adaboost Classifier\n",
    "training_accuracy.append(adaboost.score(X_train,y_train))\n",
    "test_accuracy.append(adaboost.score(X_test,y_test))\n",
    "training_f2score.append(sklearn.metrics.fbeta_score(y_train, y_train_pred, beta=2, average=\"macro\"))\n",
    "test_f2score.append(sklearn.metrics.fbeta_score(y_test, y_test_pred, beta=2, average=\"macro\"))"
   ]
  },
  {
   "cell_type": "code",
   "execution_count": 27,
   "metadata": {},
   "outputs": [
    {
     "data": {
      "text/plain": [
       "<matplotlib.legend.Legend at 0x7fef1ec455e0>"
      ]
     },
     "execution_count": 27,
     "metadata": {},
     "output_type": "execute_result"
    },
    {
     "data": {
      "image/png": "[encoded data removed]",
      "text/plain": [
       "<Figure size 432x288 with 1 Axes>"
      ]
     },
     "metadata": {
      "needs_background": "light"
     },
     "output_type": "display_data"
    }
   ],
   "source": [
    "dict_accuracy = {'Tree_Size': ranges, 'Training_Accuracy': training_accuracy, 'Test_Accuracy': test_accuracy, 'Training_F2': training_f2score, 'Test_F2': test_f2score}  \n",
    "df = pd.DataFrame(dict_accuracy)\n",
    "plts.plot( 'Tree_Size', 'Training_Accuracy', data=df, marker='', color='blue', linewidth=2, label=\"Training Accuracy\")\n",
    "plts.plot( 'Tree_Size', 'Test_Accuracy', data=df, marker='', color='orange', linewidth=2, linestyle='dashed', label=\"Test Accuracy\")\n",
    "plts.legend()"
   ]
  },
  {
   "cell_type": "code",
   "execution_count": 28,
   "metadata": {},
   "outputs": [
    {
     "data": {
      "text/plain": [
       "<matplotlib.legend.Legend at 0x7fef1f43dca0>"
      ]
     },
     "execution_count": 28,
     "metadata": {},
     "output_type": "execute_result"
    },
    {
     "data": {
      "image/png": "[encoded data removed]",
      "text/plain": [
       "<Figure size 432x288 with 1 Axes>"
      ]
     },
     "metadata": {
      "needs_background": "light"
     },
     "output_type": "display_data"
    }
   ],
   "source": [
    "plts.plot( 'Tree_Size', 'Training_F2', data=df, marker='', color='green', linewidth=2, label=\"Training F2 Score\")\n",
    "plts.plot( 'Tree_Size', 'Test_F2', data=df, marker='', color='green', linewidth=2, linestyle='dashed', label=\"Test F2 Score\")\n",
    "plts.legend()"
   ]
  }
 ],
 "metadata": {
  "kernelspec": {
   "display_name": "Python 3",
   "language": "python",
   "name": "python3"
  },
  "language_info": {
   "codemirror_mode": {
    "name": "ipython",
    "version": 3
   },
   "file_extension": ".py",
   "mimetype": "text/x-python",
   "name": "python",
   "nbconvert_exporter": "python",
   "pygments_lexer": "ipython3",
   "version": "3.8.3"
  }
 },
 "nbformat": 4,
 "nbformat_minor": 4
}
