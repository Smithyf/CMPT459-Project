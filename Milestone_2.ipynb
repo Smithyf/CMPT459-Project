{
 "cells": [
  {
   "cell_type": "code",
   "execution_count": 1,
   "metadata": {},
   "outputs": [],
   "source": [
    "%load_ext autoreload\n",
    "%autoreload 2\n",
    "\n",
    "import pandas as pd\n",
    "import numpy as np\n",
    "from data import CleanedData\n",
    "from models import nn\n",
    "import sklearn.metrics\n",
    "import torch\n",
    "import sklearn.metrics\n",
    "\n",
    "# For Adaboost\n",
    "from sklearn.metrics import confusion_matrix, ConfusionMatrixDisplay\n",
    "from sklearn.model_selection import train_test_split\n",
    "from sklearn.tree import DecisionTreeClassifier\n",
    "from sklearn.ensemble import AdaBoostClassifier\n",
    "import pickle"
   ]
  },
  {
   "cell_type": "markdown",
   "metadata": {},
   "source": [
    "## Data imputing, cleaning and feature extraction"
   ]
  },
  {
   "cell_type": "code",
   "execution_count": 2,
   "metadata": {},
   "outputs": [
    {
     "name": "stderr",
     "output_type": "stream",
     "text": [
      "D:\\Users\\gerla\\anaconda3\\lib\\site-packages\\sklearn\\utils\\validation.py:72: DataConversionWarning: A column-vector y was passed when a 1d array was expected. Please change the shape of y to (n_samples, ), for example using ravel().\n",
      "  return f(**kwargs)\n"
     ]
    }
   ],
   "source": [
    "data = CleanedData(loc='./data/joined.csv.gz', test_ratio=0.2, impute_data=True, convert_non_numerical=True, normalize_data=True, drop_columns=['source', 'Last_Update','province','country','latitude', 'longitude'])"
   ]
  },
  {
   "cell_type": "markdown",
   "metadata": {},
   "source": [
    "## Splitting data to test and training data"
   ]
  },
  {
   "cell_type": "code",
   "execution_count": 3,
   "metadata": {},
   "outputs": [],
   "source": [
    "X_train, y_train = data.training_data\n",
    "X_test, y_test = data.test_data"
   ]
  },
  {
   "cell_type": "code",
   "execution_count": 4,
   "metadata": {},
   "outputs": [
    {
     "data": {
      "text/html": [
       "<div>\n",
       "<style scoped>\n",
       "    .dataframe tbody tr th:only-of-type {\n",
       "        vertical-align: middle;\n",
       "    }\n",
       "\n",
       "    .dataframe tbody tr th {\n",
       "        vertical-align: top;\n",
       "    }\n",
       "\n",
       "    .dataframe thead th {\n",
       "        text-align: right;\n",
       "    }\n",
       "</style>\n",
       "<table border=\"1\" class=\"dataframe\">\n",
       "  <thead>\n",
       "    <tr style=\"text-align: right;\">\n",
       "      <th></th>\n",
       "      <th>age</th>\n",
       "      <th>Lat</th>\n",
       "      <th>Long_</th>\n",
       "      <th>Confirmed</th>\n",
       "      <th>Deaths</th>\n",
       "      <th>Recovered</th>\n",
       "      <th>Active</th>\n",
       "      <th>Incidence_Rate</th>\n",
       "      <th>Case-Fatality_Ratio</th>\n",
       "      <th>confirmed_day</th>\n",
       "      <th>in_contact</th>\n",
       "      <th>transformed_Combined_Key</th>\n",
       "      <th>transformed_sex</th>\n",
       "    </tr>\n",
       "  </thead>\n",
       "  <tbody>\n",
       "    <tr>\n",
       "      <th>378454</th>\n",
       "      <td>39.750683</td>\n",
       "      <td>21.264705</td>\n",
       "      <td>82.035366</td>\n",
       "      <td>11.309793</td>\n",
       "      <td>6.469250</td>\n",
       "      <td>10.700815</td>\n",
       "      <td>10.507257</td>\n",
       "      <td>5.624981</td>\n",
       "      <td>0.790277</td>\n",
       "      <td>143.0</td>\n",
       "      <td>0.0</td>\n",
       "      <td>92.0</td>\n",
       "      <td>2.0</td>\n",
       "    </tr>\n",
       "    <tr>\n",
       "      <th>163265</th>\n",
       "      <td>32.000000</td>\n",
       "      <td>5.298300</td>\n",
       "      <td>-75.247900</td>\n",
       "      <td>8.445267</td>\n",
       "      <td>4.663439</td>\n",
       "      <td>8.065579</td>\n",
       "      <td>7.218177</td>\n",
       "      <td>6.144429</td>\n",
       "      <td>2.278100</td>\n",
       "      <td>93.0</td>\n",
       "      <td>0.0</td>\n",
       "      <td>72.0</td>\n",
       "      <td>1.0</td>\n",
       "    </tr>\n",
       "    <tr>\n",
       "      <th>376609</th>\n",
       "      <td>40.223187</td>\n",
       "      <td>23.541513</td>\n",
       "      <td>78.289633</td>\n",
       "      <td>11.517495</td>\n",
       "      <td>7.550135</td>\n",
       "      <td>11.250937</td>\n",
       "      <td>9.980680</td>\n",
       "      <td>4.768044</td>\n",
       "      <td>1.892333</td>\n",
       "      <td>139.0</td>\n",
       "      <td>0.0</td>\n",
       "      <td>248.0</td>\n",
       "      <td>2.0</td>\n",
       "    </tr>\n",
       "    <tr>\n",
       "      <th>306506</th>\n",
       "      <td>41.251681</td>\n",
       "      <td>22.694884</td>\n",
       "      <td>71.590923</td>\n",
       "      <td>11.698043</td>\n",
       "      <td>8.097426</td>\n",
       "      <td>11.522618</td>\n",
       "      <td>9.685083</td>\n",
       "      <td>5.238571</td>\n",
       "      <td>2.730687</td>\n",
       "      <td>133.0</td>\n",
       "      <td>0.0</td>\n",
       "      <td>169.0</td>\n",
       "      <td>2.0</td>\n",
       "    </tr>\n",
       "    <tr>\n",
       "      <th>274613</th>\n",
       "      <td>31.000000</td>\n",
       "      <td>-11.766533</td>\n",
       "      <td>-76.604498</td>\n",
       "      <td>12.763306</td>\n",
       "      <td>9.547455</td>\n",
       "      <td>0.000000</td>\n",
       "      <td>12.722357</td>\n",
       "      <td>8.097181</td>\n",
       "      <td>4.012120</td>\n",
       "      <td>124.0</td>\n",
       "      <td>0.0</td>\n",
       "      <td>238.0</td>\n",
       "      <td>0.0</td>\n",
       "    </tr>\n",
       "  </tbody>\n",
       "</table>\n",
       "</div>"
      ],
      "text/plain": [
       "              age        Lat      Long_  Confirmed    Deaths  Recovered  \\\n",
       "378454  39.750683  21.264705  82.035366  11.309793  6.469250  10.700815   \n",
       "163265  32.000000   5.298300 -75.247900   8.445267  4.663439   8.065579   \n",
       "376609  40.223187  23.541513  78.289633  11.517495  7.550135  11.250937   \n",
       "306506  41.251681  22.694884  71.590923  11.698043  8.097426  11.522618   \n",
       "274613  31.000000 -11.766533 -76.604498  12.763306  9.547455   0.000000   \n",
       "\n",
       "           Active  Incidence_Rate  Case-Fatality_Ratio  confirmed_day  \\\n",
       "378454  10.507257        5.624981             0.790277          143.0   \n",
       "163265   7.218177        6.144429             2.278100           93.0   \n",
       "376609   9.980680        4.768044             1.892333          139.0   \n",
       "306506   9.685083        5.238571             2.730687          133.0   \n",
       "274613  12.722357        8.097181             4.012120          124.0   \n",
       "\n",
       "        in_contact  transformed_Combined_Key  transformed_sex  \n",
       "378454         0.0                      92.0              2.0  \n",
       "163265         0.0                      72.0              1.0  \n",
       "376609         0.0                     248.0              2.0  \n",
       "306506         0.0                     169.0              2.0  \n",
       "274613         0.0                     238.0              0.0  "
      ]
     },
     "execution_count": 4,
     "metadata": {},
     "output_type": "execute_result"
    }
   ],
   "source": [
    "X_train.head(5)"
   ]
  },
  {
   "cell_type": "markdown",
   "metadata": {},
   "source": [
    "## Model 1 variations, neural network with different hyperparameters and architectures"
   ]
  },
  {
   "cell_type": "code",
   "execution_count": 5,
   "metadata": {},
   "outputs": [],
   "source": [
    "# Loading up the neural netowrk models\n",
    "models = []\n",
    "for i in range(4):\n",
    "    if i < 2:\n",
    "        models.append(nn.network_1())\n",
    "    else:\n",
    "        models.append(nn.network_2())\n",
    "    nn.load_model(models[i], f'model_{i+1}.pth')"
   ]
  },
  {
   "cell_type": "markdown",
   "metadata": {},
   "source": [
    "## Accuracy of each model on training and validation data"
   ]
  },
  {
   "cell_type": "code",
   "execution_count": 6,
   "metadata": {},
   "outputs": [
    {
     "name": "stdout",
     "output_type": "stream",
     "text": [
      "training accuracy of model_1: 81.36%\n",
      "validation accuracy of model_1: 81.34%\n",
      "training accuracy of model_2: 79.79%\n",
      "validation accuracy of model_2: 79.76%\n",
      "training accuracy of model_3: 80.48%\n",
      "validation accuracy of model_3: 80.39%\n",
      "training accuracy of model_4: 81.41%\n",
      "validation accuracy of model_4: 81.30%\n"
     ]
    }
   ],
   "source": [
    "for i in range(4):\n",
    "    print(f'training accuracy of model_{i+1}: {nn.eval(models[i], X_train, y_train):.2f}%')\n",
    "    print(f'validation accuracy of model_{i+1}: {nn.eval(models[i], X_test, y_test):.2f}%')"
   ]
  },
  {
   "cell_type": "markdown",
   "metadata": {},
   "source": [
    "## Making predictions"
   ]
  },
  {
   "cell_type": "code",
   "execution_count": 7,
   "metadata": {},
   "outputs": [],
   "source": [
    "models_training_preds = []\n",
    "models_validation_preds = []\n",
    "for i in range(4):\n",
    "    models_training_preds.append(torch.argmax(torch.softmax(models[i](torch.tensor(X_train.values).float()), dim=1), dim=1))\n",
    "    models_validation_preds.append(torch.argmax(torch.softmax(models[i](torch.tensor(X_test.values).float()), dim=1), dim=1))"
   ]
  },
  {
   "cell_type": "markdown",
   "metadata": {},
   "source": [
    "## F-2 scores of different models only on the training dataset"
   ]
  },
  {
   "cell_type": "code",
   "execution_count": 8,
   "metadata": {},
   "outputs": [
    {
     "name": "stdout",
     "output_type": "stream",
     "text": [
      "F_2 score of model 1 on training dataset: 0.5490\n",
      "F_2 score of model 1 on validation dataset: 0.5499\n",
      "F_2 score of model 2 on training dataset: 0.5206\n",
      "F_2 score of model 2 on validation dataset: 0.5217\n",
      "F_2 score of model 3 on training dataset: 0.5352\n",
      "F_2 score of model 3 on validation dataset: 0.5352\n",
      "F_2 score of model 4 on training dataset: 0.5028\n",
      "F_2 score of model 4 on validation dataset: 0.5018\n"
     ]
    }
   ],
   "source": [
    "for i in range(4):\n",
    "    print(f'F_2 score of model {i+1} on training dataset: {sklearn.metrics.fbeta_score(y_train, models_training_preds[i], beta=2, average=\"macro\"):.4f}')\n",
    "    print(f'F_2 score of model {i+1} on validation dataset: {sklearn.metrics.fbeta_score(y_test, models_validation_preds[i], beta=2, average=\"macro\"):.4f}')"
   ]
  },
  {
   "cell_type": "code",
   "execution_count": 9,
   "metadata": {},
   "outputs": [
    {
     "data": {
      "text/plain": [
       "array([0.00764965, 0.89247219, 0.98911424, 0.11790159])"
      ]
     },
     "execution_count": 9,
     "metadata": {},
     "output_type": "execute_result"
    }
   ],
   "source": [
    "sklearn.metrics.fbeta_score(y_test, models_validation_preds[i], beta=2, average=None)"
   ]
  },
  {
   "cell_type": "code",
   "execution_count": 10,
   "metadata": {},
   "outputs": [
    {
     "data": {
      "text/plain": [
       "['deceased', 'hospitalized', 'nonhospitalized', 'recovered']"
      ]
     },
     "execution_count": 10,
     "metadata": {},
     "output_type": "execute_result"
    }
   ],
   "source": [
    "data.encoder.classes_.tolist()"
   ]
  },
  {
   "cell_type": "markdown",
   "metadata": {},
   "source": [
    "## Confusion matrices for the best performing model"
   ]
  },
  {
   "cell_type": "code",
   "execution_count": 11,
   "metadata": {},
   "outputs": [],
   "source": [
    "conf_matrix_train = sklearn.metrics.confusion_matrix(y_train.values, models_training_preds[3])\n",
    "conf_matrix_val = sklearn.metrics.confusion_matrix(y_test.values, models_validation_preds[3])"
   ]
  },
  {
   "cell_type": "code",
   "execution_count": 12,
   "metadata": {},
   "outputs": [
    {
     "data": {
      "text/plain": [
       "<sklearn.metrics._plot.confusion_matrix.ConfusionMatrixDisplay at 0x1e385f869c8>"
      ]
     },
     "execution_count": 12,
     "metadata": {},
     "output_type": "execute_result"
    }
   ],
   "source": [
    "sklearn.metrics.ConfusionMatrixDisplay(conf_matrix_train).plot()\n",
    "sklearn.metrics.ConfusionMatrixDisplay(conf_matrix_val).plot()"
   ]
  },
  {
   "cell_type": "markdown",
   "metadata": {},
   "source": [
    "## Model 2: Adaboost"
   ]
  },
  {
   "cell_type": "code",
   "execution_count": 13,
   "metadata": {},
   "outputs": [],
   "source": [
    "# adaboost = AdaBoostClassifier(DecisionTreeClassifier(max_depth = 20),n_estimators = 25, learning_rate = 1)\n",
    "# adaboost.fit(X_train, y_train)\n",
    "with open('./data/adaboost_model.pkl', 'rb') as f:\n",
    "    adaboost = pickle.load(f)"
   ]
  },
  {
   "cell_type": "markdown",
   "metadata": {},
   "source": [
    "### Training Set Accuracy Score"
   ]
  },
  {
   "cell_type": "code",
   "execution_count": 14,
   "metadata": {},
   "outputs": [
    {
     "data": {
      "text/plain": [
       "0.8652235247679303"
      ]
     },
     "execution_count": 14,
     "metadata": {},
     "output_type": "execute_result"
    }
   ],
   "source": [
    "adaboost.score(X_train,y_train)"
   ]
  },
  {
   "cell_type": "markdown",
   "metadata": {},
   "source": [
    "### Test set Accuracy Score"
   ]
  },
  {
   "cell_type": "code",
   "execution_count": 15,
   "metadata": {},
   "outputs": [
    {
     "data": {
      "text/plain": [
       "0.8653359648335875"
      ]
     },
     "execution_count": 15,
     "metadata": {},
     "output_type": "execute_result"
    }
   ],
   "source": [
    "adaboost.score(X_test,y_test)"
   ]
  },
  {
   "cell_type": "markdown",
   "metadata": {},
   "source": [
    "### Confusion Matrices"
   ]
  },
  {
   "cell_type": "markdown",
   "metadata": {},
   "source": [
    "#### Test Data Set"
   ]
  },
  {
   "cell_type": "code",
   "execution_count": 16,
   "metadata": {},
   "outputs": [
    {
     "data": {
      "text/plain": [
       "<sklearn.metrics._plot.confusion_matrix.ConfusionMatrixDisplay at 0x1e384347248>"
      ]
     },
     "execution_count": 16,
     "metadata": {},
     "output_type": "execute_result"
    },
    {
     "data": {
      "image/png": "[encoded data removed]",
      "text/plain": [
       "<Figure size 432x288 with 2 Axes>"
      ]
     },
     "metadata": {
      "needs_background": "light"
     },
     "output_type": "display_data"
    }
   ],
   "source": [
    "y_test_pred = adaboost.predict(X_test)\n",
    "test_matrix = confusion_matrix(y_test, y_test_pred)\n",
    "ConfusionMatrixDisplay(test_matrix).plot()"
   ]
  },
  {
   "cell_type": "markdown",
   "metadata": {},
   "source": [
    "#### Training Data Set"
   ]
  },
  {
   "cell_type": "code",
   "execution_count": 17,
   "metadata": {},
   "outputs": [
    {
     "data": {
      "text/plain": [
       "<sklearn.metrics._plot.confusion_matrix.ConfusionMatrixDisplay at 0x1e38443eac8>"
      ]
     },
     "execution_count": 17,
     "metadata": {},
     "output_type": "execute_result"
    },
    {
     "data": {
      "image/png": "[encoded data removed]",
      "text/plain": [
       "<Figure size 432x288 with 2 Axes>"
      ]
     },
     "metadata": {
      "needs_background": "light"
     },
     "output_type": "display_data"
    }
   ],
   "source": [
    "y_train_pred = adaboost.predict(X_train)\n",
    "train_matrix = confusion_matrix(y_train, y_train_pred)\n",
    "ConfusionMatrixDisplay(train_matrix).plot()"
   ]
  },
  {
   "cell_type": "markdown",
   "metadata": {},
   "source": [
    "####  F-2 Scores"
   ]
  },
  {
   "cell_type": "code",
   "execution_count": 18,
   "metadata": {},
   "outputs": [
    {
     "name": "stdout",
     "output_type": "stream",
     "text": [
      "F_2 score of Adaboost on training dataset: 0.6386\n",
      "F_2 score of Adaboost on validation dataset: 0.6414\n"
     ]
    }
   ],
   "source": [
    "print(f'F_2 score of Adaboost on training dataset: {sklearn.metrics.fbeta_score(y_train, y_train_pred, beta=2, average=\"macro\"):.4f}')\n",
    "print(f'F_2 score of Adaboost on validation dataset: {sklearn.metrics.fbeta_score(y_test, y_test_pred, beta=2, average=\"macro\"):.4f}')"
   ]
  },
  {
   "cell_type": "code",
   "execution_count": 19,
   "metadata": {},
   "outputs": [
    {
     "data": {
      "text/plain": [
       "array([0.24058323, 0.83914559, 0.99529266, 0.56941538])"
      ]
     },
     "execution_count": 19,
     "metadata": {},
     "output_type": "execute_result"
    }
   ],
   "source": [
    "sklearn.metrics.fbeta_score(y_test, y_test_pred, beta=1, average=None)"
   ]
  },
  {
   "cell_type": "code",
   "execution_count": 20,
   "metadata": {},
   "outputs": [],
   "source": [
    "import matplotlib.pyplot as plts\n",
    "\n",
    "ranges = [2, 5, 10, 15, 20, 25, 30, 35, 40, 45]\n",
    "training_accuracy = list()\n",
    "test_accuracy = list()\n",
    "training_f2score = list()\n",
    "test_f2score = list()\n",
    "\n",
    "for i in ranges:\n",
    "    adaboost_overfit = AdaBoostClassifier(DecisionTreeClassifier(max_depth = i),n_estimators = 25, learning_rate = 1)\n",
    "    adaboost_overfit.fit(X_train,y_train) \n",
    "    training_accuracy.append(adaboost_overfit.score(X_train,y_train))\n",
    "    test_accuracy.append(adaboost_overfit.score(X_test,y_test))\n",
    "    y_test_predict = adaboost.predict(X_test)\n",
    "    y_train_predict = adaboost.predict(X_train)\n",
    "    training_f2score.append(sklearn.metrics.fbeta_score(y_train, y_train_predict, beta=2, average=\"macro\"))\n",
    "    test_f2score.append(sklearn.metrics.fbeta_score(y_test, y_test_predict, beta=2, average=\"macro\"))\n",
    "\n",
    "# Scores for loaded tree size n = 50 Adaboost Classifier\n",
    "training_accuracy.append(adaboost.score(X_train,y_train))\n",
    "test_accuracy.append(adaboost.score(X_test,y_test))\n",
    "training_f2score.append(sklearn.metrics.fbeta_score(y_train, y_train_pred, beta=2, average=\"macro\"))\n",
    "test_f2score.append(sklearn.metrics.fbeta_score(y_test, y_test_pred, beta=2, average=\"macro\"))"
   ]
  },
  {
   "cell_type": "code",
   "execution_count": 22,
   "metadata": {},
   "outputs": [
    {
     "data": {
      "text/plain": [
       "<matplotlib.legend.Legend at 0x1e38fb681c8>"
      ]
     },
     "execution_count": 22,
     "metadata": {},
     "output_type": "execute_result"
    },
    {
     "data": {
      "image/png": "[encoded data removed]",
      "text/plain": [
       "<Figure size 432x288 with 1 Axes>"
      ]
     },
     "metadata": {
      "needs_background": "light"
     },
     "output_type": "display_data"
    }
   ],
   "source": [
    "ranges.append(50)\n",
    "dict_accuracy = {'Tree_Size': ranges, 'Training_Accuracy': training_accuracy, 'Test_Accuracy': test_accuracy, 'Training_F2': training_f2score, 'Test_F2': test_f2score}  \n",
    "df = pd.DataFrame(dict_accuracy)\n",
    "plts.plot( 'Tree_Size', 'Training_Accuracy', data=df, marker='', color='blue', linewidth=2, label=\"Training Accuracy\")\n",
    "plts.plot( 'Tree_Size', 'Test_Accuracy', data=df, marker='', color='blue', linewidth=2, linestyle='dashed', label=\"Test Accuracy\")\n",
    "plts.legend()"
   ]
  },
  {
   "cell_type": "code",
   "execution_count": 23,
   "metadata": {},
   "outputs": [
    {
     "data": {
      "text/plain": [
       "<matplotlib.legend.Legend at 0x1e38fbdcf08>"
      ]
     },
     "execution_count": 23,
     "metadata": {},
     "output_type": "execute_result"
    },
    {
     "data": {
      "image/png": "[encoded data removed]",
      "text/plain": [
       "<Figure size 432x288 with 1 Axes>"
      ]
     },
     "metadata": {
      "needs_background": "light"
     },
     "output_type": "display_data"
    }
   ],
   "source": [
    "plts.plot( 'Tree_Size', 'Training_F2', data=df, marker='', color='green', linewidth=2, label=\"Training F2 Score\")\n",
    "plts.plot( 'Tree_Size', 'Test_F2', data=df, marker='', color='green', linewidth=2, linestyle='dashed', label=\"Test F2 Score\")\n",
    "plts.legend()"
   ]
  },
  {
   "cell_type": "code",
   "execution_count": null,
   "metadata": {},
   "outputs": [],
   "source": []
  }
 ],
 "metadata": {
  "kernelspec": {
   "display_name": "Python 3",
   "language": "python",
   "name": "python3"
  },
  "language_info": {
   "codemirror_mode": {
    "name": "ipython",
    "version": 3
   },
   "file_extension": ".py",
   "mimetype": "text/x-python",
   "name": "python",
   "nbconvert_exporter": "python",
   "pygments_lexer": "ipython3",
   "version": "3.7.6"
  }
 },
 "nbformat": 4,
 "nbformat_minor": 4
}
