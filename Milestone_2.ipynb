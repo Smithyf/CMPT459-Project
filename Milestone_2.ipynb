{
 "cells": [
  {
   "cell_type": "code",
   "execution_count": 1,
   "metadata": {},
   "outputs": [],
   "source": [
    "%load_ext autoreload\n",
    "%autoreload 2\n",
    "\n",
    "import pandas as pd\n",
    "import numpy as np\n",
    "from data import CleanedData\n",
    "from models import nn\n",
    "import sklearn.metrics\n",
    "import torch\n",
    "import sklearn.metrics\n",
    "import matplotlib.pyplot as plt\n",
    "\n",
    "# For Adaboost\n",
    "from sklearn.metrics import confusion_matrix, ConfusionMatrixDisplay\n",
    "from sklearn.model_selection import train_test_split\n",
    "from sklearn.tree import DecisionTreeClassifier\n",
    "from sklearn.ensemble import AdaBoostClassifier\n",
    "import pickle\n",
    "\n",
    "# For KNN\n",
    "from sklearn.neighbors import KNeighborsClassifier"
   ]
  },
  {
   "cell_type": "markdown",
   "metadata": {},
   "source": [
    "## Data imputing, cleaning and feature extraction"
   ]
  },
  {
   "cell_type": "code",
   "execution_count": 2,
   "metadata": {},
   "outputs": [
    {
     "name": "stderr",
     "output_type": "stream",
     "text": [
      "C:\\Users\\Leo\\AppData\\Roaming\\Python\\Python36\\site-packages\\sklearn\\utils\\validation.py:72: DataConversionWarning: A column-vector y was passed when a 1d array was expected. Please change the shape of y to (n_samples, ), for example using ravel().\n",
      "  return f(**kwargs)\n"
     ]
    }
   ],
   "source": [
    "data = CleanedData(loc='./data/joined.csv.gz', test_ratio=0.2, impute_data=True, convert_non_numerical=True, normalize_data=True, drop_columns=['source', 'Last_Update','province','country','latitude', 'longitude'])"
   ]
  },
  {
   "cell_type": "markdown",
   "metadata": {},
   "source": [
    "## Splitting data to test and training data"
   ]
  },
  {
   "cell_type": "code",
   "execution_count": 3,
   "metadata": {},
   "outputs": [],
   "source": [
    "X_train, y_train = data.training_data\n",
    "X_test, y_test = data.test_data"
   ]
  },
  {
   "cell_type": "code",
   "execution_count": 4,
   "metadata": {},
   "outputs": [
    {
     "data": {
      "text/html": [
       "<div>\n",
       "<style scoped>\n",
       "    .dataframe tbody tr th:only-of-type {\n",
       "        vertical-align: middle;\n",
       "    }\n",
       "\n",
       "    .dataframe tbody tr th {\n",
       "        vertical-align: top;\n",
       "    }\n",
       "\n",
       "    .dataframe thead th {\n",
       "        text-align: right;\n",
       "    }\n",
       "</style>\n",
       "<table border=\"1\" class=\"dataframe\">\n",
       "  <thead>\n",
       "    <tr style=\"text-align: right;\">\n",
       "      <th></th>\n",
       "      <th>age</th>\n",
       "      <th>Lat</th>\n",
       "      <th>Long_</th>\n",
       "      <th>Confirmed</th>\n",
       "      <th>Deaths</th>\n",
       "      <th>Recovered</th>\n",
       "      <th>Active</th>\n",
       "      <th>Incidence_Rate</th>\n",
       "      <th>Case-Fatality_Ratio</th>\n",
       "      <th>confirmed_day</th>\n",
       "      <th>in_contact</th>\n",
       "      <th>transformed_Combined_Key</th>\n",
       "      <th>transformed_sex</th>\n",
       "    </tr>\n",
       "  </thead>\n",
       "  <tbody>\n",
       "    <tr>\n",
       "      <th>250913</th>\n",
       "      <td>40.069437</td>\n",
       "      <td>22.694884</td>\n",
       "      <td>71.590923</td>\n",
       "      <td>11.698043</td>\n",
       "      <td>8.097426</td>\n",
       "      <td>11.522618</td>\n",
       "      <td>9.685083</td>\n",
       "      <td>5.238571</td>\n",
       "      <td>2.730687</td>\n",
       "      <td>151.0</td>\n",
       "      <td>0.0</td>\n",
       "      <td>169.0</td>\n",
       "      <td>2.0</td>\n",
       "    </tr>\n",
       "    <tr>\n",
       "      <th>77220</th>\n",
       "      <td>41.918000</td>\n",
       "      <td>28.646519</td>\n",
       "      <td>77.108980</td>\n",
       "      <td>12.383499</td>\n",
       "      <td>8.498418</td>\n",
       "      <td>12.214393</td>\n",
       "      <td>10.381273</td>\n",
       "      <td>7.151806</td>\n",
       "      <td>2.054617</td>\n",
       "      <td>143.0</td>\n",
       "      <td>0.0</td>\n",
       "      <td>116.0</td>\n",
       "      <td>2.0</td>\n",
       "    </tr>\n",
       "    <tr>\n",
       "      <th>385006</th>\n",
       "      <td>40.255102</td>\n",
       "      <td>19.449759</td>\n",
       "      <td>76.108221</td>\n",
       "      <td>13.970372</td>\n",
       "      <td>10.366939</td>\n",
       "      <td>13.634507</td>\n",
       "      <td>12.615772</td>\n",
       "      <td>6.854431</td>\n",
       "      <td>2.723007</td>\n",
       "      <td>131.0</td>\n",
       "      <td>0.0</td>\n",
       "      <td>252.0</td>\n",
       "      <td>2.0</td>\n",
       "    </tr>\n",
       "    <tr>\n",
       "      <th>234392</th>\n",
       "      <td>41.580081</td>\n",
       "      <td>22.694884</td>\n",
       "      <td>71.590923</td>\n",
       "      <td>11.698043</td>\n",
       "      <td>8.097426</td>\n",
       "      <td>11.522618</td>\n",
       "      <td>9.685083</td>\n",
       "      <td>5.238571</td>\n",
       "      <td>2.730687</td>\n",
       "      <td>128.0</td>\n",
       "      <td>0.0</td>\n",
       "      <td>169.0</td>\n",
       "      <td>2.0</td>\n",
       "    </tr>\n",
       "    <tr>\n",
       "      <th>403638</th>\n",
       "      <td>38.615530</td>\n",
       "      <td>26.925425</td>\n",
       "      <td>80.560982</td>\n",
       "      <td>12.744867</td>\n",
       "      <td>8.490644</td>\n",
       "      <td>12.506525</td>\n",
       "      <td>11.124686</td>\n",
       "      <td>4.970505</td>\n",
       "      <td>1.420411</td>\n",
       "      <td>148.0</td>\n",
       "      <td>0.0</td>\n",
       "      <td>468.0</td>\n",
       "      <td>2.0</td>\n",
       "    </tr>\n",
       "  </tbody>\n",
       "</table>\n",
       "</div>"
      ],
      "text/plain": [
       "              age        Lat      Long_  Confirmed     Deaths  Recovered  \\\n",
       "250913  40.069437  22.694884  71.590923  11.698043   8.097426  11.522618   \n",
       "77220   41.918000  28.646519  77.108980  12.383499   8.498418  12.214393   \n",
       "385006  40.255102  19.449759  76.108221  13.970372  10.366939  13.634507   \n",
       "234392  41.580081  22.694884  71.590923  11.698043   8.097426  11.522618   \n",
       "403638  38.615530  26.925425  80.560982  12.744867   8.490644  12.506525   \n",
       "\n",
       "           Active  Incidence_Rate  Case-Fatality_Ratio  confirmed_day  \\\n",
       "250913   9.685083        5.238571             2.730687          151.0   \n",
       "77220   10.381273        7.151806             2.054617          143.0   \n",
       "385006  12.615772        6.854431             2.723007          131.0   \n",
       "234392   9.685083        5.238571             2.730687          128.0   \n",
       "403638  11.124686        4.970505             1.420411          148.0   \n",
       "\n",
       "        in_contact  transformed_Combined_Key  transformed_sex  \n",
       "250913         0.0                     169.0              2.0  \n",
       "77220          0.0                     116.0              2.0  \n",
       "385006         0.0                     252.0              2.0  \n",
       "234392         0.0                     169.0              2.0  \n",
       "403638         0.0                     468.0              2.0  "
      ]
     },
     "execution_count": 4,
     "metadata": {},
     "output_type": "execute_result"
    }
   ],
   "source": [
    "X_train.head(5)"
   ]
  },
  {
   "cell_type": "markdown",
   "metadata": {},
   "source": [
    "## Model 1 variations, neural network with different hyperparameters and architectures"
   ]
  },
  {
   "cell_type": "code",
   "execution_count": 5,
   "metadata": {},
   "outputs": [],
   "source": [
    "models = []\n",
    "trained_models = 13\n",
    "for i in range(trained_models):\n",
    "    models.append(nn.network_1())\n",
    "    nn.load_model(models[i], f'./models/weights/model_{i}.pth')"
   ]
  },
  {
   "cell_type": "markdown",
   "metadata": {},
   "source": [
    "## Accuracy of each model on training and validation data"
   ]
  },
  {
   "cell_type": "code",
   "execution_count": 6,
   "metadata": {},
   "outputs": [
    {
     "name": "stdout",
     "output_type": "stream",
     "text": [
      "training accuracy of model_1: 81.02%\n",
      "validation accuracy of model_1: 81.05%\n",
      "training accuracy of model_2: 84.37%\n",
      "validation accuracy of model_2: 84.48%\n",
      "training accuracy of model_3: 82.91%\n",
      "validation accuracy of model_3: 82.95%\n",
      "training accuracy of model_4: 82.89%\n",
      "validation accuracy of model_4: 82.95%\n",
      "training accuracy of model_5: 83.04%\n",
      "validation accuracy of model_5: 83.06%\n",
      "training accuracy of model_6: 83.12%\n",
      "validation accuracy of model_6: 83.17%\n",
      "training accuracy of model_7: 82.17%\n",
      "validation accuracy of model_7: 82.27%\n",
      "training accuracy of model_8: 84.36%\n",
      "validation accuracy of model_8: 84.48%\n",
      "training accuracy of model_9: 84.47%\n",
      "validation accuracy of model_9: 84.54%\n",
      "training accuracy of model_10: 84.79%\n",
      "validation accuracy of model_10: 84.91%\n",
      "training accuracy of model_11: 84.93%\n",
      "validation accuracy of model_11: 85.03%\n",
      "training accuracy of model_12: 84.76%\n",
      "validation accuracy of model_12: 84.86%\n",
      "training accuracy of model_13: 84.84%\n",
      "validation accuracy of model_13: 84.90%\n"
     ]
    }
   ],
   "source": [
    "for i in range(trained_models):\n",
    "    print(f'training accuracy of model_{i+1}: {nn.eval(models[i], X_train, y_train):.2f}%')\n",
    "    print(f'validation accuracy of model_{i+1}: {nn.eval(models[i], X_test, y_test):.2f}%')"
   ]
  },
  {
   "cell_type": "markdown",
   "metadata": {},
   "source": [
    "## Making predictions"
   ]
  },
  {
   "cell_type": "code",
   "execution_count": 7,
   "metadata": {},
   "outputs": [],
   "source": [
    "models_training_preds = []\n",
    "models_validation_preds = []\n",
    "for i in range(trained_models):\n",
    "    models_training_preds.append(torch.argmax(torch.softmax(models[i](torch.tensor(X_train.values).float()), dim=1), dim=1))\n",
    "    models_validation_preds.append(torch.argmax(torch.softmax(models[i](torch.tensor(X_test.values).float()), dim=1), dim=1))"
   ]
  },
  {
   "cell_type": "markdown",
   "metadata": {},
   "source": [
    "## F-2 scores of different models "
   ]
  },
  {
   "cell_type": "code",
   "execution_count": 8,
   "metadata": {},
   "outputs": [
    {
     "data": {
      "text/plain": [
       "<matplotlib.legend.Legend at 0x259076d0cf8>"
      ]
     },
     "execution_count": 8,
     "metadata": {},
     "output_type": "execute_result"
    },
    {
     "data": {
      "image/png": "[encoded data removed]",
      "text/plain": [
       "<Figure size 432x288 with 1 Axes>"
      ]
     },
     "metadata": {},
     "output_type": "display_data"
    }
   ],
   "source": [
    "fscore_training = []\n",
    "fscore_validation = []\n",
    "for i in range(trained_models):\n",
    "    fscore_training.append(sklearn.metrics.fbeta_score(y_train, models_training_preds[i], beta=2, average=\"macro\"))\n",
    "    fscore_validation.append(sklearn.metrics.fbeta_score(y_test, models_validation_preds[i], beta=2, average=\"macro\"))\n",
    "\n",
    "plt.plot(fscore_training,)\n",
    "plt.plot(fscore_validation,linestyle='dashed')\n",
    "plt.legend(['training', 'validation'])"
   ]
  },
  {
   "cell_type": "code",
   "execution_count": 9,
   "metadata": {},
   "outputs": [
    {
     "data": {
      "text/plain": [
       "array([0.08316633, 0.92135643, 0.99425055, 0.27215598])"
      ]
     },
     "execution_count": 9,
     "metadata": {},
     "output_type": "execute_result"
    }
   ],
   "source": [
    "sklearn.metrics.fbeta_score(y_test, models_validation_preds[i], beta=2, average=None)"
   ]
  },
  {
   "cell_type": "code",
   "execution_count": 10,
   "metadata": {},
   "outputs": [
    {
     "data": {
      "text/plain": [
       "['deceased', 'hospitalized', 'nonhospitalized', 'recovered']"
      ]
     },
     "execution_count": 10,
     "metadata": {},
     "output_type": "execute_result"
    }
   ],
   "source": [
    "data.encoder.classes_.tolist()"
   ]
  },
  {
   "cell_type": "markdown",
   "metadata": {},
   "source": [
    "## Confusion matrices for the best performing model"
   ]
  },
  {
   "cell_type": "code",
   "execution_count": 11,
   "metadata": {},
   "outputs": [
    {
     "data": {
      "text/plain": [
       "<sklearn.metrics._plot.confusion_matrix.ConfusionMatrixDisplay at 0x259076507f0>"
      ]
     },
     "execution_count": 11,
     "metadata": {},
     "output_type": "execute_result"
    },
    {
     "data": {
      "image/png": "[encoded data removed]",
      "text/plain": [
       "<Figure size 432x288 with 2 Axes>"
      ]
     },
     "metadata": {},
     "output_type": "display_data"
    },
    {
     "data": {
      "image/png": "[encoded data removed]",
      "text/plain": [
       "<Figure size 432x288 with 2 Axes>"
      ]
     },
     "metadata": {},
     "output_type": "display_data"
    }
   ],
   "source": [
    "conf_matrix_train = sklearn.metrics.confusion_matrix(y_train.values, models_training_preds[i])\n",
    "conf_matrix_val = sklearn.metrics.confusion_matrix(y_test.values, models_validation_preds[i])\n",
    "\n",
    "sklearn.metrics.ConfusionMatrixDisplay(conf_matrix_train).plot()\n",
    "sklearn.metrics.ConfusionMatrixDisplay(conf_matrix_val).plot()"
   ]
  },
  {
   "cell_type": "markdown",
   "metadata": {},
   "source": [
    "## Model 2: Adaboost"
   ]
  },
  {
   "cell_type": "code",
   "execution_count": 12,
   "metadata": {},
   "outputs": [],
   "source": [
    "# adaboost = AdaBoostClassifier(DecisionTreeClassifier(max_depth = 20),n_estimators = 25, learning_rate = 1)\n",
    "# adaboost.fit(X_train, y_train)\n",
    "with open('./data/adaboost_model.pkl', 'rb') as f:\n",
    "    adaboost = pickle.load(f)"
   ]
  },
  {
   "cell_type": "markdown",
   "metadata": {},
   "source": [
    "### Training Set Accuracy Score"
   ]
  },
  {
   "cell_type": "code",
   "execution_count": 13,
   "metadata": {},
   "outputs": [
    {
     "data": {
      "text/plain": [
       "0.8651315715698654"
      ]
     },
     "execution_count": 13,
     "metadata": {},
     "output_type": "execute_result"
    }
   ],
   "source": [
    "adaboost.score(X_train,y_train)"
   ]
  },
  {
   "cell_type": "markdown",
   "metadata": {},
   "source": [
    "### Test set Accuracy Score"
   ]
  },
  {
   "cell_type": "code",
   "execution_count": 14,
   "metadata": {},
   "outputs": [
    {
     "data": {
      "text/plain": [
       "0.865703776800933"
      ]
     },
     "execution_count": 14,
     "metadata": {},
     "output_type": "execute_result"
    }
   ],
   "source": [
    "adaboost.score(X_test,y_test)"
   ]
  },
  {
   "cell_type": "markdown",
   "metadata": {},
   "source": [
    "### Confusion Matrices"
   ]
  },
  {
   "cell_type": "markdown",
   "metadata": {},
   "source": [
    "#### Test Data Set"
   ]
  },
  {
   "cell_type": "code",
   "execution_count": 15,
   "metadata": {},
   "outputs": [
    {
     "data": {
      "text/plain": [
       "<sklearn.metrics._plot.confusion_matrix.ConfusionMatrixDisplay at 0x25930b72438>"
      ]
     },
     "execution_count": 15,
     "metadata": {},
     "output_type": "execute_result"
    },
    {
     "data": {
      "image/png": "[encoded data removed]",
      "text/plain": [
       "<Figure size 432x288 with 2 Axes>"
      ]
     },
     "metadata": {},
     "output_type": "display_data"
    }
   ],
   "source": [
    "y_test_pred = adaboost.predict(X_test)\n",
    "test_matrix = confusion_matrix(y_test, y_test_pred)\n",
    "ConfusionMatrixDisplay(test_matrix).plot()"
   ]
  },
  {
   "cell_type": "markdown",
   "metadata": {},
   "source": [
    "#### Training Data Set"
   ]
  },
  {
   "cell_type": "code",
   "execution_count": 16,
   "metadata": {},
   "outputs": [
    {
     "data": {
      "text/plain": [
       "<sklearn.metrics._plot.confusion_matrix.ConfusionMatrixDisplay at 0x25907698d68>"
      ]
     },
     "execution_count": 16,
     "metadata": {},
     "output_type": "execute_result"
    },
    {
     "data": {
      "image/png": "[encoded data removed]",
      "text/plain": [
       "<Figure size 432x288 with 2 Axes>"
      ]
     },
     "metadata": {},
     "output_type": "display_data"
    }
   ],
   "source": [
    "y_train_pred = adaboost.predict(X_train)\n",
    "train_matrix = confusion_matrix(y_train, y_train_pred)\n",
    "ConfusionMatrixDisplay(train_matrix).plot()"
   ]
  },
  {
   "cell_type": "markdown",
   "metadata": {},
   "source": [
    "####  F-2 Scores"
   ]
  },
  {
   "cell_type": "code",
   "execution_count": 17,
   "metadata": {},
   "outputs": [
    {
     "name": "stdout",
     "output_type": "stream",
     "text": [
      "F_2 score of Adaboost on training dataset: 0.6384\n",
      "F_2 score of Adaboost on validation dataset: 0.6423\n"
     ]
    }
   ],
   "source": [
    "print(f'F_2 score of Adaboost on training dataset: {sklearn.metrics.fbeta_score(y_train, y_train_pred, beta=2, average=\"macro\"):.4f}')\n",
    "print(f'F_2 score of Adaboost on validation dataset: {sklearn.metrics.fbeta_score(y_test, y_test_pred, beta=2, average=\"macro\"):.4f}')"
   ]
  },
  {
   "cell_type": "code",
   "execution_count": 18,
   "metadata": {},
   "outputs": [
    {
     "data": {
      "text/plain": [
       "array([0.18590617, 0.88415703, 0.99661858, 0.50254397])"
      ]
     },
     "execution_count": 18,
     "metadata": {},
     "output_type": "execute_result"
    }
   ],
   "source": [
    "sklearn.metrics.fbeta_score(y_test, y_test_pred, beta=2, average=None)"
   ]
  },
  {
   "cell_type": "code",
   "execution_count": 19,
   "metadata": {},
   "outputs": [],
   "source": [
    "import matplotlib.pyplot as plts\n",
    "\n",
    "ranges = [2, 5, 10, 15, 20, 25, 30, 35, 40, 45]\n",
    "training_accuracy = list()\n",
    "test_accuracy = list()\n",
    "training_f2score = list()\n",
    "test_f2score = list()\n",
    "\n",
    "for i in ranges:\n",
    "    adaboost_overfit = AdaBoostClassifier(DecisionTreeClassifier(max_depth = i),n_estimators = 25, learning_rate = 1)\n",
    "    adaboost_overfit.fit(X_train,y_train) \n",
    "    training_accuracy.append(adaboost_overfit.score(X_train,y_train))\n",
    "    test_accuracy.append(adaboost_overfit.score(X_test,y_test))\n",
    "    y_test_predict = adaboost_overfit.predict(X_test)\n",
    "    y_train_predict = adaboost_overfit.predict(X_train)\n",
    "    training_f2score.append(sklearn.metrics.fbeta_score(y_train, y_train_predict, beta=2, average=\"macro\"))\n",
    "    test_f2score.append(sklearn.metrics.fbeta_score(y_test, y_test_predict, beta=2, average=\"macro\"))\n",
    "\n",
    "# Scores for loaded tree size n = 50 Adaboost Classifier\n",
    "training_accuracy.append(adaboost.score(X_train,y_train))\n",
    "test_accuracy.append(adaboost.score(X_test,y_test))\n",
    "training_f2score.append(sklearn.metrics.fbeta_score(y_train, y_train_pred, beta=2, average=\"macro\"))\n",
    "test_f2score.append(sklearn.metrics.fbeta_score(y_test, y_test_pred, beta=2, average=\"macro\"))"
   ]
  },
  {
   "cell_type": "code",
   "execution_count": 20,
   "metadata": {},
   "outputs": [
    {
     "data": {
      "text/plain": [
       "<matplotlib.legend.Legend at 0x25907892978>"
      ]
     },
     "execution_count": 20,
     "metadata": {},
     "output_type": "execute_result"
    },
    {
     "data": {
      "image/png": "[encoded data removed]",
      "text/plain": [
       "<Figure size 432x288 with 1 Axes>"
      ]
     },
     "metadata": {},
     "output_type": "display_data"
    }
   ],
   "source": [
    "ranges.append(50)\n",
    "dict_accuracy = {'Tree_Size': ranges, 'Training_Accuracy': training_accuracy, 'Test_Accuracy': test_accuracy, 'Training_F2': training_f2score, 'Test_F2': test_f2score}  \n",
    "df = pd.DataFrame(dict_accuracy)\n",
    "plts.plot( 'Tree_Size', 'Training_Accuracy', data=df, marker='', color='blue', linewidth=2, label=\"Training Accuracy\")\n",
    "plts.plot( 'Tree_Size', 'Test_Accuracy', data=df, marker='', color='orange', linewidth=2, linestyle='dashed', label=\"Test Accuracy\")\n",
    "plts.legend()"
   ]
  },
  {
   "cell_type": "code",
   "execution_count": 21,
   "metadata": {},
   "outputs": [
    {
     "data": {
      "text/plain": [
       "<matplotlib.legend.Legend at 0x2590751edd8>"
      ]
     },
     "execution_count": 21,
     "metadata": {},
     "output_type": "execute_result"
    },
    {
     "data": {
      "image/png": "[encoded data removed]",
      "text/plain": [
       "<Figure size 432x288 with 1 Axes>"
      ]
     },
     "metadata": {},
     "output_type": "display_data"
    }
   ],
   "source": [
    "plts.plot( 'Tree_Size', 'Training_F2', data=df, marker='', color='green', linewidth=2, label=\"Training F2 Score\")\n",
    "plts.plot( 'Tree_Size', 'Test_F2', data=df, marker='', color='green', linewidth=2, linestyle='dashed', label=\"Test F2 Score\")\n",
    "plts.legend()"
   ]
  },
  {
   "cell_type": "markdown",
   "metadata": {},
   "source": [
    "## Model 3: K-Nearest Neighbors"
   ]
  },
  {
   "cell_type": "code",
   "execution_count": 22,
   "metadata": {},
   "outputs": [
    {
     "data": {
      "text/plain": [
       "KNeighborsClassifier(n_neighbors=40, p=1)"
      ]
     },
     "execution_count": 22,
     "metadata": {},
     "output_type": "execute_result"
    }
   ],
   "source": [
    "#knn = KNeighborsClassifier(n_neighbors=10)\n",
    "#knn.fit(X_train, y_train)\n",
    "with open('./data/knn_model.pkl', 'rb') as knn_file:\n",
    "    knn = pickle.load(knn_file)\n",
    "knn"
   ]
  },
  {
   "cell_type": "markdown",
   "metadata": {},
   "source": [
    "#### Training Set Accuracy Score"
   ]
  },
  {
   "cell_type": "code",
   "execution_count": 23,
   "metadata": {},
   "outputs": [
    {
     "data": {
      "text/plain": [
       "0.8628304988573133"
      ]
     },
     "execution_count": 23,
     "metadata": {},
     "output_type": "execute_result"
    }
   ],
   "source": [
    "knn.score(X_train,y_train)"
   ]
  },
  {
   "cell_type": "markdown",
   "metadata": {},
   "source": [
    "#### Test Set Accuracy Score"
   ]
  },
  {
   "cell_type": "code",
   "execution_count": 24,
   "metadata": {},
   "outputs": [
    {
     "data": {
      "text/plain": [
       "0.8635148470440477"
      ]
     },
     "execution_count": 24,
     "metadata": {},
     "output_type": "execute_result"
    }
   ],
   "source": [
    "knn.score(X_test,y_test)"
   ]
  },
  {
   "cell_type": "markdown",
   "metadata": {},
   "source": [
    "#### Test Data Set"
   ]
  },
  {
   "cell_type": "code",
   "execution_count": 25,
   "metadata": {},
   "outputs": [
    {
     "data": {
      "text/plain": [
       "<sklearn.metrics._plot.confusion_matrix.ConfusionMatrixDisplay at 0x259077e36d8>"
      ]
     },
     "execution_count": 25,
     "metadata": {},
     "output_type": "execute_result"
    },
    {
     "data": {
      "image/png": "[encoded data removed]",
      "text/plain": [
       "<Figure size 432x288 with 2 Axes>"
      ]
     },
     "metadata": {},
     "output_type": "display_data"
    }
   ],
   "source": [
    "y_test_pred = knn.predict(X_test)\n",
    "test_matrix = confusion_matrix(y_test, y_test_pred)\n",
    "ConfusionMatrixDisplay(test_matrix).plot()"
   ]
  },
  {
   "cell_type": "markdown",
   "metadata": {},
   "source": [
    "#### Training Dataset"
   ]
  },
  {
   "cell_type": "code",
   "execution_count": 26,
   "metadata": {},
   "outputs": [
    {
     "data": {
      "text/plain": [
       "<sklearn.metrics._plot.confusion_matrix.ConfusionMatrixDisplay at 0x259100150b8>"
      ]
     },
     "execution_count": 26,
     "metadata": {},
     "output_type": "execute_result"
    },
    {
     "data": {
      "image/png": "[encoded data removed]",
      "text/plain": [
       "<Figure size 432x288 with 2 Axes>"
      ]
     },
     "metadata": {},
     "output_type": "display_data"
    }
   ],
   "source": [
    "y_train_pred = knn.predict(X_train)\n",
    "train_matrix = confusion_matrix(y_train, y_train_pred)\n",
    "ConfusionMatrixDisplay(train_matrix).plot()"
   ]
  },
  {
   "cell_type": "markdown",
   "metadata": {},
   "source": [
    "### F-2 Scores"
   ]
  },
  {
   "cell_type": "code",
   "execution_count": 27,
   "metadata": {},
   "outputs": [
    {
     "name": "stdout",
     "output_type": "stream",
     "text": [
      "F_2 score of KNN on training dataset: 0.6039\n",
      "F_2 score of KNN on validation dataset: 0.6062\n"
     ]
    }
   ],
   "source": [
    "print(f'F_2 score of KNN on training dataset: {sklearn.metrics.fbeta_score(y_train, y_train_pred, beta=2, average=\"macro\"):.4f}')\n",
    "print(f'F_2 score of KNN on validation dataset: {sklearn.metrics.fbeta_score(y_test, y_test_pred, beta=2, average=\"macro\"):.4f}')"
   ]
  },
  {
   "cell_type": "markdown",
   "metadata": {},
   "source": [
    "### Overfitting graphs"
   ]
  },
  {
   "cell_type": "code",
   "execution_count": 28,
   "metadata": {},
   "outputs": [
    {
     "data": {
      "text/plain": [
       "<matplotlib.legend.Legend at 0x25907e6f2b0>"
      ]
     },
     "execution_count": 28,
     "metadata": {},
     "output_type": "execute_result"
    },
    {
     "data": {
      "image/png": "[encoded data removed]",
      "text/plain": [
       "<Figure size 432x288 with 1 Axes>"
      ]
     },
     "metadata": {},
     "output_type": "display_data"
    }
   ],
   "source": [
    "dist_forumla = 1 # Manhattan\n",
    "#dist_forumla = 2 # Euclidean\n",
    "#dist_forumla = 3 # Minkowski\n",
    "\n",
    "ranges = [5, 10, 20, 30, 40, 50, 60, 70, 80, 90, 100]\n",
    "training_accuracy = list()\n",
    "test_accuracy = list()\n",
    "training_f2score = list()\n",
    "test_f2score = list()\n",
    "\n",
    "for i in ranges:\n",
    "    knn = KNeighborsClassifier(n_neighbors=i, p=dist_forumla)\n",
    "    knn.fit(X_train,y_train) \n",
    "    training_accuracy.append(knn.score(X_train,y_train))\n",
    "    test_accuracy.append(knn.score(X_test,y_test))\n",
    "    y_test_predict = knn.predict(X_test)\n",
    "    y_train_predict = knn.predict(X_train)\n",
    "    training_f2score.append(sklearn.metrics.fbeta_score(y_train, y_train_predict, beta=2, average=\"macro\"))\n",
    "    test_f2score.append(sklearn.metrics.fbeta_score(y_test, y_test_predict, beta=2, average=\"macro\"))\n",
    "\n",
    "\n",
    "dict_accuracy = {'K_Values': ranges, 'Training_Accuracy': training_accuracy, 'Test_Accuracy': test_accuracy, 'Training_F2': training_f2score, 'Test_F2': test_f2score}  \n",
    "df = pd.DataFrame(dict_accuracy)\n",
    "plts.plot( 'K_Values', 'Training_Accuracy', data=df, marker='', color='blue', linewidth=2, label=\"Training Accuracy\")\n",
    "plts.plot( 'K_Values', 'Test_Accuracy', data=df, marker='', color='red', linewidth=2, linestyle='dashed', label=\"Test Accuracy\")\n",
    "plts.legend()\n"
   ]
  },
  {
   "cell_type": "code",
   "execution_count": null,
   "metadata": {},
   "outputs": [],
   "source": []
  }
 ],
 "metadata": {
  "kernelspec": {
   "display_name": "Python 3",
   "language": "python",
   "name": "python3"
  },
  "language_info": {
   "codemirror_mode": {
    "name": "ipython",
    "version": 3
   },
   "file_extension": ".py",
   "mimetype": "text/x-python",
   "name": "python",
   "nbconvert_exporter": "python",
   "pygments_lexer": "ipython3",
   "version": "3.6.5"
  }
 },
 "nbformat": 4,
 "nbformat_minor": 4
}
