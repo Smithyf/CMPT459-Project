{
 "cells": [
  {
   "cell_type": "code",
   "execution_count": 1,
   "metadata": {},
   "outputs": [],
   "source": [
    "%load_ext autoreload\n",
    "%autoreload 2\n",
    "\n",
    "import pandas as pd\n",
    "import numpy as np\n",
    "from data import CleanedData\n",
    "from models import nn\n",
    "import sklearn.metrics\n",
    "import torch\n",
    "import sklearn.metrics\n",
    "\n",
    "# For Adaboost\n",
    "from sklearn.metrics import confusion_matrix, ConfusionMatrixDisplay\n",
    "from sklearn.model_selection import train_test_split\n",
    "from sklearn.tree import DecisionTreeClassifier\n",
    "from sklearn.ensemble import AdaBoostClassifier\n",
    "import pickle"
   ]
  },
  {
   "cell_type": "markdown",
   "metadata": {},
   "source": [
    "## Data imputing, cleaning and feature extraction"
   ]
  },
  {
   "cell_type": "code",
   "execution_count": 2,
   "metadata": {},
   "outputs": [
    {
     "name": "stderr",
     "output_type": "stream",
     "text": [
      "/opt/miniconda3/envs/cmpt353/lib/python3.8/site-packages/sklearn/utils/validation.py:72: DataConversionWarning: A column-vector y was passed when a 1d array was expected. Please change the shape of y to (n_samples, ), for example using ravel().\n",
      "  return f(**kwargs)\n"
     ]
    }
   ],
   "source": [
    "data = CleanedData(loc='./data/joined.csv.gz', test_ratio=0.2, impute_data=True, convert_non_numerical=True, normalize_data=True, drop_columns=['source', 'Last_Update','province','country','latitude', 'longitude'])"
   ]
  },
  {
   "cell_type": "markdown",
   "metadata": {},
   "source": [
    "## Splitting data to test and training data"
   ]
  },
  {
   "cell_type": "code",
   "execution_count": 3,
   "metadata": {},
   "outputs": [],
   "source": [
    "X_train, y_train = data.training_data\n",
    "X_test, y_test = data.test_data"
   ]
  },
  {
   "cell_type": "code",
   "execution_count": 4,
   "metadata": {},
   "outputs": [
    {
     "data": {
      "text/html": [
       "<div>\n",
       "<style scoped>\n",
       "    .dataframe tbody tr th:only-of-type {\n",
       "        vertical-align: middle;\n",
       "    }\n",
       "\n",
       "    .dataframe tbody tr th {\n",
       "        vertical-align: top;\n",
       "    }\n",
       "\n",
       "    .dataframe thead th {\n",
       "        text-align: right;\n",
       "    }\n",
       "</style>\n",
       "<table border=\"1\" class=\"dataframe\">\n",
       "  <thead>\n",
       "    <tr style=\"text-align: right;\">\n",
       "      <th></th>\n",
       "      <th>age</th>\n",
       "      <th>Lat</th>\n",
       "      <th>Long_</th>\n",
       "      <th>Confirmed</th>\n",
       "      <th>Deaths</th>\n",
       "      <th>Recovered</th>\n",
       "      <th>Active</th>\n",
       "      <th>Incidence_Rate</th>\n",
       "      <th>Case-Fatality_Ratio</th>\n",
       "      <th>confirmed_day</th>\n",
       "      <th>in_contact</th>\n",
       "      <th>transformed_Combined_Key</th>\n",
       "      <th>transformed_sex</th>\n",
       "    </tr>\n",
       "  </thead>\n",
       "  <tbody>\n",
       "    <tr>\n",
       "      <th>162090</th>\n",
       "      <td>43.482171</td>\n",
       "      <td>30.841465</td>\n",
       "      <td>75.408790</td>\n",
       "      <td>11.438557</td>\n",
       "      <td>7.903966</td>\n",
       "      <td>11.134049</td>\n",
       "      <td>9.983315</td>\n",
       "      <td>5.730074</td>\n",
       "      <td>2.917066</td>\n",
       "      <td>137.0</td>\n",
       "      <td>0.0</td>\n",
       "      <td>364.0</td>\n",
       "      <td>2.0</td>\n",
       "    </tr>\n",
       "    <tr>\n",
       "      <th>270476</th>\n",
       "      <td>44.000000</td>\n",
       "      <td>25.679658</td>\n",
       "      <td>85.604840</td>\n",
       "      <td>12.015021</td>\n",
       "      <td>6.755769</td>\n",
       "      <td>11.929990</td>\n",
       "      <td>9.442166</td>\n",
       "      <td>4.885724</td>\n",
       "      <td>0.519919</td>\n",
       "      <td>139.0</td>\n",
       "      <td>0.0</td>\n",
       "      <td>55.0</td>\n",
       "      <td>1.0</td>\n",
       "    </tr>\n",
       "    <tr>\n",
       "      <th>40245</th>\n",
       "      <td>39.795426</td>\n",
       "      <td>11.006091</td>\n",
       "      <td>78.400624</td>\n",
       "      <td>13.182344</td>\n",
       "      <td>9.069353</td>\n",
       "      <td>13.072578</td>\n",
       "      <td>10.747337</td>\n",
       "      <td>6.525087</td>\n",
       "      <td>1.635877</td>\n",
       "      <td>150.0</td>\n",
       "      <td>0.0</td>\n",
       "      <td>439.0</td>\n",
       "      <td>2.0</td>\n",
       "    </tr>\n",
       "    <tr>\n",
       "      <th>204748</th>\n",
       "      <td>39.857317</td>\n",
       "      <td>11.006091</td>\n",
       "      <td>78.400624</td>\n",
       "      <td>13.182344</td>\n",
       "      <td>9.069353</td>\n",
       "      <td>13.072578</td>\n",
       "      <td>10.747337</td>\n",
       "      <td>6.525087</td>\n",
       "      <td>1.635877</td>\n",
       "      <td>149.0</td>\n",
       "      <td>0.0</td>\n",
       "      <td>439.0</td>\n",
       "      <td>2.0</td>\n",
       "    </tr>\n",
       "    <tr>\n",
       "      <th>377355</th>\n",
       "      <td>37.000000</td>\n",
       "      <td>-11.766533</td>\n",
       "      <td>-76.604498</td>\n",
       "      <td>12.763306</td>\n",
       "      <td>9.547455</td>\n",
       "      <td>0.000000</td>\n",
       "      <td>12.722357</td>\n",
       "      <td>8.097181</td>\n",
       "      <td>4.012120</td>\n",
       "      <td>128.0</td>\n",
       "      <td>0.0</td>\n",
       "      <td>238.0</td>\n",
       "      <td>0.0</td>\n",
       "    </tr>\n",
       "  </tbody>\n",
       "</table>\n",
       "</div>"
      ],
      "text/plain": [
       "              age        Lat      Long_  Confirmed    Deaths  Recovered  \\\n",
       "162090  43.482171  30.841465  75.408790  11.438557  7.903966  11.134049   \n",
       "270476  44.000000  25.679658  85.604840  12.015021  6.755769  11.929990   \n",
       "40245   39.795426  11.006091  78.400624  13.182344  9.069353  13.072578   \n",
       "204748  39.857317  11.006091  78.400624  13.182344  9.069353  13.072578   \n",
       "377355  37.000000 -11.766533 -76.604498  12.763306  9.547455   0.000000   \n",
       "\n",
       "           Active  Incidence_Rate  Case-Fatality_Ratio  confirmed_day  \\\n",
       "162090   9.983315        5.730074             2.917066          137.0   \n",
       "270476   9.442166        4.885724             0.519919          139.0   \n",
       "40245   10.747337        6.525087             1.635877          150.0   \n",
       "204748  10.747337        6.525087             1.635877          149.0   \n",
       "377355  12.722357        8.097181             4.012120          128.0   \n",
       "\n",
       "        in_contact  transformed_Combined_Key  transformed_sex  \n",
       "162090         0.0                     364.0              2.0  \n",
       "270476         0.0                      55.0              1.0  \n",
       "40245          0.0                     439.0              2.0  \n",
       "204748         0.0                     439.0              2.0  \n",
       "377355         0.0                     238.0              0.0  "
      ]
     },
     "execution_count": 4,
     "metadata": {},
     "output_type": "execute_result"
    }
   ],
   "source": [
    "X_train.head(5)"
   ]
  },
  {
   "cell_type": "markdown",
   "metadata": {},
   "source": [
    "## Model 1 variations, neural network with different hyperparameters and architectures"
   ]
  },
  {
   "cell_type": "code",
   "execution_count": 5,
   "metadata": {},
   "outputs": [],
   "source": [
    "# Loading up the neural netowrk models\n",
    "models = []\n",
    "for i in range(4):\n",
    "    if i < 2:\n",
    "        models.append(nn.network_1())\n",
    "    else:\n",
    "        models.append(nn.network_2())\n",
    "    nn.load_model(models[i], f'model_{i+1}.pth')"
   ]
  },
  {
   "cell_type": "markdown",
   "metadata": {},
   "source": [
    "## Accuracy of each model on training and validation data"
   ]
  },
  {
   "cell_type": "code",
   "execution_count": 6,
   "metadata": {},
   "outputs": [
    {
     "name": "stdout",
     "output_type": "stream",
     "text": [
      "training accuracy of model_1: 95.17%\n",
      "validation accuracy of model_1: 95.17%\n",
      "training accuracy of model_2: 95.66%\n",
      "validation accuracy of model_2: 95.72%\n",
      "training accuracy of model_3: 94.16%\n",
      "validation accuracy of model_3: 94.21%\n",
      "training accuracy of model_4: 98.02%\n",
      "validation accuracy of model_4: 97.94%\n"
     ]
    }
   ],
   "source": [
    "for i in range(4):\n",
    "    print(f'training accuracy of model_{i+1}: {nn.eval(models[i], X_train, y_train):.2f}%')\n",
    "    print(f'validation accuracy of model_{i+1}: {nn.eval(models[i], X_test, y_test):.2f}%')"
   ]
  },
  {
   "cell_type": "markdown",
   "metadata": {},
   "source": [
    "## Making predictions"
   ]
  },
  {
   "cell_type": "code",
   "execution_count": 7,
   "metadata": {},
   "outputs": [],
   "source": [
    "models_training_preds = []\n",
    "models_validation_preds = []\n",
    "for i in range(4):\n",
    "    models_training_preds.append(torch.argmax(torch.softmax(models[i](torch.tensor(X_train.values).float()), dim=1), dim=1))\n",
    "    models_validation_preds.append(torch.argmax(torch.softmax(models[i](torch.tensor(X_test.values).float()), dim=1), dim=1))"
   ]
  },
  {
   "cell_type": "markdown",
   "metadata": {},
   "source": [
    "## F-2 scores of different models only on the training dataset"
   ]
  },
  {
   "cell_type": "code",
   "execution_count": 8,
   "metadata": {},
   "outputs": [
    {
     "name": "stdout",
     "output_type": "stream",
     "text": [
      "F_2 score of model 1 on training dataset: 0.7094\n",
      "F_2 score of model 1 on validation dataset: 0.7095\n",
      "F_2 score of model 2 on training dataset: 0.7123\n",
      "F_2 score of model 2 on validation dataset: 0.7129\n",
      "F_2 score of model 3 on training dataset: 0.7048\n",
      "F_2 score of model 3 on validation dataset: 0.7050\n",
      "F_2 score of model 4 on training dataset: 0.7427\n",
      "F_2 score of model 4 on validation dataset: 0.7420\n"
     ]
    }
   ],
   "source": [
    "for i in range(4):\n",
    "    print(f'F_2 score of model {i+1} on training dataset: {sklearn.metrics.fbeta_score(y_train, models_training_preds[i], beta=2, average=\"macro\"):.4f}')\n",
    "    print(f'F_2 score of model {i+1} on validation dataset: {sklearn.metrics.fbeta_score(y_test, models_validation_preds[i], beta=2, average=\"macro\"):.4f}')"
   ]
  },
  {
   "cell_type": "code",
   "execution_count": 9,
   "metadata": {},
   "outputs": [
    {
     "data": {
      "text/plain": [
       "['deceased', 'hospitalized', 'nonhospitalized', 'recovered']"
      ]
     },
     "execution_count": 9,
     "metadata": {},
     "output_type": "execute_result"
    }
   ],
   "source": [
    "data.encoder.classes_.tolist()"
   ]
  },
  {
   "cell_type": "markdown",
   "metadata": {},
   "source": [
    "## Confusion matrices for the best performing model"
   ]
  },
  {
   "cell_type": "code",
   "execution_count": 10,
   "metadata": {},
   "outputs": [],
   "source": [
    "conf_matrix_train = sklearn.metrics.confusion_matrix(y_train.values, models_training_preds[3])\n",
    "conf_matrix_val = sklearn.metrics.confusion_matrix(y_test.values, models_validation_preds[3])"
   ]
  },
  {
   "cell_type": "code",
   "execution_count": 11,
   "metadata": {},
   "outputs": [
    {
     "data": {
      "text/plain": [
       "<sklearn.metrics._plot.confusion_matrix.ConfusionMatrixDisplay at 0x7f8b9895e9a0>"
      ]
     },
     "execution_count": 11,
     "metadata": {},
     "output_type": "execute_result"
    },
    {
     "data": {
      "image/png": "[encoded data removed]",
      "text/plain": [
       "<Figure size 432x288 with 2 Axes>"
      ]
     },
     "metadata": {
      "needs_background": "light"
     },
     "output_type": "display_data"
    },
    {
     "data": {
      "image/png": "[encoded data removed]",
      "text/plain": [
       "<Figure size 432x288 with 2 Axes>"
      ]
     },
     "metadata": {
      "needs_background": "light"
     },
     "output_type": "display_data"
    }
   ],
   "source": [
    "sklearn.metrics.ConfusionMatrixDisplay(conf_matrix_train).plot()\n",
    "sklearn.metrics.ConfusionMatrixDisplay(conf_matrix_val).plot()"
   ]
  },
  {
   "cell_type": "markdown",
   "metadata": {},
   "source": [
    "## Model 2: Adaboost"
   ]
  },
  {
   "cell_type": "code",
   "execution_count": 12,
   "metadata": {},
   "outputs": [],
   "source": [
    "adaboost = AdaBoostClassifier(DecisionTreeClassifier(max_depth = 20),n_estimators = 25, learning_rate = 1)\n",
    "with open('./data/adaboost_model.pkl', 'rb') as f:\n",
    "    adaboost = pickle.load(f)"
   ]
  },
  {
   "cell_type": "markdown",
   "metadata": {},
   "source": [
    "### Training Set Accuracy Score"
   ]
  },
  {
   "cell_type": "code",
   "execution_count": 13,
   "metadata": {},
   "outputs": [
    {
     "data": {
      "text/plain": [
       "0.9957544535625136"
      ]
     },
     "execution_count": 13,
     "metadata": {},
     "output_type": "execute_result"
    }
   ],
   "source": [
    "adaboost.score(X_train,y_train)"
   ]
  },
  {
   "cell_type": "markdown",
   "metadata": {},
   "source": [
    "### Test set Accuracy Score"
   ]
  },
  {
   "cell_type": "code",
   "execution_count": 14,
   "metadata": {},
   "outputs": [
    {
     "data": {
      "text/plain": [
       "0.9958464160760743"
      ]
     },
     "execution_count": 14,
     "metadata": {},
     "output_type": "execute_result"
    }
   ],
   "source": [
    "adaboost.score(X_test,y_test)"
   ]
  },
  {
   "cell_type": "markdown",
   "metadata": {},
   "source": [
    "### Confusion Matrices"
   ]
  },
  {
   "cell_type": "markdown",
   "metadata": {},
   "source": [
    "#### Test Data Set"
   ]
  },
  {
   "cell_type": "code",
   "execution_count": 15,
   "metadata": {},
   "outputs": [
    {
     "data": {
      "text/plain": [
       "<sklearn.metrics._plot.confusion_matrix.ConfusionMatrixDisplay at 0x7f8b05088940>"
      ]
     },
     "execution_count": 15,
     "metadata": {},
     "output_type": "execute_result"
    },
    {
     "data": {
      "image/png": "[encoded data removed]",
      "text/plain": [
       "<Figure size 432x288 with 2 Axes>"
      ]
     },
     "metadata": {
      "needs_background": "light"
     },
     "output_type": "display_data"
    }
   ],
   "source": [
    "y_test_pred = adaboost.predict(X_test)\n",
    "test_matrix = confusion_matrix(y_test, y_test_pred)\n",
    "ConfusionMatrixDisplay(test_matrix).plot()"
   ]
  },
  {
   "cell_type": "markdown",
   "metadata": {},
   "source": [
    "#### Training Data Set"
   ]
  },
  {
   "cell_type": "code",
   "execution_count": 16,
   "metadata": {},
   "outputs": [
    {
     "data": {
      "text/plain": [
       "<sklearn.metrics._plot.confusion_matrix.ConfusionMatrixDisplay at 0x7f8b05543730>"
      ]
     },
     "execution_count": 16,
     "metadata": {},
     "output_type": "execute_result"
    },
    {
     "data": {
      "image/png": "[encoded data removed]",
      "text/plain": [
       "<Figure size 432x288 with 2 Axes>"
      ]
     },
     "metadata": {
      "needs_background": "light"
     },
     "output_type": "display_data"
    }
   ],
   "source": [
    "y_train_pred = adaboost.predict(X_train)\n",
    "train_matrix = confusion_matrix(y_train, y_train_pred)\n",
    "ConfusionMatrixDisplay(train_matrix).plot()"
   ]
  },
  {
   "cell_type": "markdown",
   "metadata": {},
   "source": [
    "####  F-2 Scores"
   ]
  },
  {
   "cell_type": "code",
   "execution_count": 17,
   "metadata": {},
   "outputs": [
    {
     "name": "stdout",
     "output_type": "stream",
     "text": [
      "F_2 score of Adaboost on training dataset: 0.9785\n",
      "F_2 score of Adaboost on validation dataset: 0.9792\n"
     ]
    }
   ],
   "source": [
    "print(f'F_2 score of Adaboost on training dataset: {sklearn.metrics.fbeta_score(y_train, y_train_pred, beta=2, average=\"macro\"):.4f}')\n",
    "print(f'F_2 score of Adaboost on validation dataset: {sklearn.metrics.fbeta_score(y_test, y_test_pred, beta=2, average=\"macro\"):.4f}')"
   ]
  }
 ],
 "metadata": {
  "kernelspec": {
   "display_name": "Python 3",
   "language": "python",
   "name": "python3"
  },
  "language_info": {
   "codemirror_mode": {
    "name": "ipython",
    "version": 3
   },
   "file_extension": ".py",
   "mimetype": "text/x-python",
   "name": "python",
   "nbconvert_exporter": "python",
   "pygments_lexer": "ipython3",
   "version": "3.8.3"
  }
 },
 "nbformat": 4,
 "nbformat_minor": 4
}
